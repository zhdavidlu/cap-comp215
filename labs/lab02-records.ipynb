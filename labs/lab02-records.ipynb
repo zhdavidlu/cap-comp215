{
  "nbformat": 4,
  "nbformat_minor": 0,
  "metadata": {
    "colab": {
      "name": "Lab2-NEO.ipynb",
      "provenance": []
    },
    "kernelspec": {
      "name": "python3",
      "language": "python",
      "display_name": "Python 3 (ipykernel)"
    },
    "language_info": {
      "name": "python"
    }
  },
  "cells": [
    {
      "cell_type": "markdown",
      "source": [
        "COMP 215 - LAB 2 Records (NEO)\n",
        "----------------\n",
        "#### Name:\n",
        "#### Date:\n",
        "\n",
        "This lab exercise is mostly a review of strings, tuples, lists, dictionaries, and functions.\n",
        "\n",
        "**Building on new concepts from lab 1**:\n",
        "  * `datetime.date` objects represent a calendar date\n",
        "  * *list comprehension* provides a compact way to represent map and filter algorithms\n",
        "\n",
        "**New Python Concepts**:\n",
        "  * *f-string* simplifies string formatting operations\n",
        "\n",
        "As usual, the first code cell simply imports all the modules we'll be using..."
      ],
      "metadata": {
        "id": "nbRPZPKZU5Pk"
      }
    },
    {
      "cell_type": "code",
      "execution_count": 46,
      "outputs": [],
      "source": [
        "import datetime, json, requests\n",
        "from pprint import pprint    # Pretty Print - built-in python function to nicely format data structures"
      ],
      "metadata": {
        "pycharm": {
          "name": "#%%\n"
        },
        "ExecuteTime": {
          "end_time": "2024-01-04T04:05:38.688434Z",
          "start_time": "2024-01-04T04:05:38.640552Z"
        },
        "id": "3oyQyZumSeFF"
      }
    },
    {
      "cell_type": "markdown",
      "source": [
        "We'll answer some questions about [Near Earth Objects](https://cneos.jpl.nasa.gov/)\n",
        "> using NASA's API:  [https://api.nasa.gov/](https://api.nasa.gov/#NeoWS)\n",
        "\n",
        "You should register for your own API key, (but may use the DEMO_KEY to get started).\n",
        "\n",
        "First we need a short tutorial on python dates and [f-strings](https://realpython.com/python-f-strings/)..."
      ],
      "metadata": {
        "collapsed": false,
        "pycharm": {
          "name": "#%% md\n"
        },
        "id": "C72CvuxtSeFI"
      }
    },
    {
      "cell_type": "code",
      "execution_count": 47,
      "outputs": [
        {
          "output_type": "stream",
          "name": "stdout",
          "text": [
            "2024-01-15 <class 'datetime.date'>\n",
            "Today is: 2024-01-15\n"
          ]
        }
      ],
      "source": [
        "today = datetime.date.today()   # get a date object representing today's date\n",
        "print(today, type(today))\n",
        "formatted_date = f'Today is: {today}'   # A format string - notice how the variable `today` is formatted into the stringg\n",
        "print(formatted_date)"
      ],
      "metadata": {
        "pycharm": {
          "name": "#%%\n"
        },
        "ExecuteTime": {
          "end_time": "2024-01-04T04:05:38.691283Z",
          "start_time": "2024-01-04T04:05:38.688366Z"
        },
        "colab": {
          "base_uri": "https://localhost:8080/"
        },
        "id": "LwW9X4kdSeFK",
        "outputId": "adf46067-4cdb-4f7e-d4a8-9508c6adbbd1"
      }
    },
    {
      "cell_type": "markdown",
      "source": [
        "### Make a query\n",
        "\n",
        "Let's get some data from the NEO database...\n",
        "Here's a query that gets the observation \"feed\" for today.\n",
        "(Note: I hard-coded the date below to lock down the data for the lab - ideally used `today()` so the notebook is always up-to-date.)"
      ],
      "metadata": {
        "collapsed": false,
        "pycharm": {
          "name": "#%% md\n"
        },
        "id": "FYI2qMYUSeFM"
      }
    },
    {
      "cell_type": "code",
      "execution_count": 48,
      "outputs": [
        {
          "output_type": "stream",
          "name": "stdout",
          "text": [
            "15 Near Earth Objects found for 2024-01-15\n",
            "[{'absolute_magnitude_h': 19.44,\n",
            "  'close_approach_data': [{'close_approach_date': '2024-01-15',\n",
            "                           'close_approach_date_full': '2024-Jan-15 08:52',\n",
            "                           'epoch_date_close_approach': 1705308720000,\n",
            "                           'miss_distance': {'astronomical': '0.3378616592',\n",
            "                                             'kilometers': '50543384.570985904',\n",
            "                                             'lunar': '131.4281854288',\n",
            "                                             'miles': '31406202.8474333152'},\n",
            "                           'orbiting_body': 'Earth',\n",
            "                           'relative_velocity': {'kilometers_per_hour': '33880.0571757695',\n",
            "                                                 'kilometers_per_second': '9.4111269933',\n",
            "                                                 'miles_per_hour': '21051.7499712441'}}],\n",
            "  'estimated_diameter': {'feet': {'estimated_diameter_max': 2523.6262142444,\n",
            "                                  'estimated_diameter_min': 1128.5999529702},\n",
            "                         'kilometers': {'estimated_diameter_max': 0.7692012455,\n",
            "                                        'estimated_diameter_min': 0.3439972547},\n",
            "                         'meters': {'estimated_diameter_max': 769.2012454873,\n",
            "                                    'estimated_diameter_min': 343.9972546574},\n",
            "                         'miles': {'estimated_diameter_max': 0.4779593471,\n",
            "                                   'estimated_diameter_min': 0.2137499181}},\n",
            "  'id': '2380476',\n",
            "  'is_potentially_hazardous_asteroid': False,\n",
            "  'is_sentry_object': False,\n",
            "  'links': {'self': 'http://api.nasa.gov/neo/rest/v1/neo/2380476?api_key=DEMO_KEY'},\n",
            "  'name': '380476 (2003 YO1)',\n",
            "  'nasa_jpl_url': 'https://ssd.jpl.nasa.gov/tools/sbdb_lookup.html#/?sstr=2380476',\n",
            "  'neo_reference_id': '2380476'},\n",
            " {'absolute_magnitude_h': 19.59,\n",
            "  'close_approach_data': [{'close_approach_date': '2024-01-15',\n",
            "                           'close_approach_date_full': '2024-Jan-15 13:57',\n",
            "                           'epoch_date_close_approach': 1705327020000,\n",
            "                           'miss_distance': {'astronomical': '0.4287565823',\n",
            "                                             'kilometers': '64141071.460559701',\n",
            "                                             'lunar': '166.7863105147',\n",
            "                                             'miles': '39855413.6855018338'},\n",
            "                           'orbiting_body': 'Earth',\n",
            "                           'relative_velocity': {'kilometers_per_hour': '142531.3920539412',\n",
            "                                                 'kilometers_per_second': '39.5920533483',\n",
            "                                                 'miles_per_hour': '88563.4641348503'}}],\n",
            "  'estimated_diameter': {'feet': {'estimated_diameter_max': 2355.1850180477,\n",
            "                                  'estimated_diameter_min': 1053.2707599887},\n",
            "                         'kilometers': {'estimated_diameter_max': 0.7178603705,\n",
            "                                        'estimated_diameter_min': 0.3210369174},\n",
            "                         'meters': {'estimated_diameter_max': 717.8603705294,\n",
            "                                    'estimated_diameter_min': 321.0369173714},\n",
            "                         'miles': {'estimated_diameter_max': 0.4460576163,\n",
            "                                   'estimated_diameter_min': 0.1994830304}},\n",
            "  'id': '3312035',\n",
            "  'is_potentially_hazardous_asteroid': False,\n",
            "  'is_sentry_object': False,\n",
            "  'links': {'self': 'http://api.nasa.gov/neo/rest/v1/neo/3312035?api_key=DEMO_KEY'},\n",
            "  'name': '(2006 AM8)',\n",
            "  'nasa_jpl_url': 'https://ssd.jpl.nasa.gov/tools/sbdb_lookup.html#/?sstr=3312035',\n",
            "  'neo_reference_id': '3312035'},\n",
            " {'absolute_magnitude_h': 20.27,\n",
            "  'close_approach_data': [{'close_approach_date': '2024-01-15',\n",
            "                           'close_approach_date_full': '2024-Jan-15 11:27',\n",
            "                           'epoch_date_close_approach': 1705318020000,\n",
            "                           'miss_distance': {'astronomical': '0.1025663619',\n",
            "                                             'kilometers': '15343709.273889153',\n",
            "                                             'lunar': '39.8983147791',\n",
            "                                             'miles': '9534138.8389021914'},\n",
            "                           'orbiting_body': 'Earth',\n",
            "                           'relative_velocity': {'kilometers_per_hour': '34158.7484138598',\n",
            "                                                 'kilometers_per_second': '9.4885412261',\n",
            "                                                 'miles_per_hour': '21224.9178686008'}}],\n",
            "  'estimated_diameter': {'feet': {'estimated_diameter_max': 1721.9678155292,\n",
            "                                  'estimated_diameter_min': 770.087418118},\n",
            "                         'kilometers': {'estimated_diameter_max': 0.5248557734,\n",
            "                                        'estimated_diameter_min': 0.2347226375},\n",
            "                         'meters': {'estimated_diameter_max': 524.8557733779,\n",
            "                                    'estimated_diameter_min': 234.7226375313},\n",
            "                         'miles': {'estimated_diameter_max': 0.3261301568,\n",
            "                                   'estimated_diameter_min': 0.14584984}},\n",
            "  'id': '3632236',\n",
            "  'is_potentially_hazardous_asteroid': False,\n",
            "  'is_sentry_object': False,\n",
            "  'links': {'self': 'http://api.nasa.gov/neo/rest/v1/neo/3632236?api_key=DEMO_KEY'},\n",
            "  'name': '(2013 EH89)',\n",
            "  'nasa_jpl_url': 'https://ssd.jpl.nasa.gov/tools/sbdb_lookup.html#/?sstr=3632236',\n",
            "  'neo_reference_id': '3632236'},\n",
            " {'absolute_magnitude_h': 24.18,\n",
            "  'close_approach_data': [{'close_approach_date': '2024-01-15',\n",
            "                           'close_approach_date_full': '2024-Jan-15 23:22',\n",
            "                           'epoch_date_close_approach': 1705360920000,\n",
            "                           'miss_distance': {'astronomical': '0.0405723324',\n",
            "                                             'kilometers': '6069534.507971988',\n",
            "                                             'lunar': '15.7826373036',\n",
            "                                             'miles': '3771433.8595419144'},\n",
            "                           'orbiting_body': 'Earth',\n",
            "                           'relative_velocity': {'kilometers_per_hour': '47607.5125496336',\n",
            "                                                 'kilometers_per_second': '13.2243090416',\n",
            "                                                 'miles_per_hour': '29581.4568950765'}}],\n",
            "  'estimated_diameter': {'feet': {'estimated_diameter_max': 284.4625049034,\n",
            "                                  'estimated_diameter_min': 127.2154996028},\n",
            "                         'kilometers': {'estimated_diameter_max': 0.0867041687,\n",
            "                                        'estimated_diameter_min': 0.038775283},\n",
            "                         'meters': {'estimated_diameter_max': 86.70416872,\n",
            "                                    'estimated_diameter_min': 38.7752830381},\n",
            "                         'miles': {'estimated_diameter_max': 0.053875456,\n",
            "                                   'estimated_diameter_min': 0.0240938364}},\n",
            "  'id': '3703319',\n",
            "  'is_potentially_hazardous_asteroid': False,\n",
            "  'is_sentry_object': False,\n",
            "  'links': {'self': 'http://api.nasa.gov/neo/rest/v1/neo/3703319?api_key=DEMO_KEY'},\n",
            "  'name': '(2015 AK1)',\n",
            "  'nasa_jpl_url': 'https://ssd.jpl.nasa.gov/tools/sbdb_lookup.html#/?sstr=3703319',\n",
            "  'neo_reference_id': '3703319'},\n",
            " {'absolute_magnitude_h': 22.12,\n",
            "  'close_approach_data': [{'close_approach_date': '2024-01-15',\n",
            "                           'close_approach_date_full': '2024-Jan-15 10:19',\n",
            "                           'epoch_date_close_approach': 1705313940000,\n",
            "                           'miss_distance': {'astronomical': '0.3758736541',\n",
            "                                             'kilometers': '56229898.042476767',\n",
            "                                             'lunar': '146.2148514449',\n",
            "                                             'miles': '34939638.4710307046'},\n",
            "                           'orbiting_body': 'Earth',\n",
            "                           'relative_velocity': {'kilometers_per_hour': '27726.6304040512',\n",
            "                                                 'kilometers_per_second': '7.7018417789',\n",
            "                                                 'miles_per_hour': '17228.2498752284'}}],\n",
            "  'estimated_diameter': {'feet': {'estimated_diameter_max': 734.5562021403,\n",
            "                                  'estimated_diameter_min': 328.503520256},\n",
            "                         'kilometers': {'estimated_diameter_max': 0.2238927232,\n",
            "                                        'estimated_diameter_min': 0.1001278698},\n",
            "                         'meters': {'estimated_diameter_max': 223.8927232478,\n",
            "                                    'estimated_diameter_min': 100.1278697699},\n",
            "                         'miles': {'estimated_diameter_max': 0.1391204453,\n",
            "                                   'estimated_diameter_min': 0.0622165546}},\n",
            "  'id': '3757000',\n",
            "  'is_potentially_hazardous_asteroid': False,\n",
            "  'is_sentry_object': False,\n",
            "  'links': {'self': 'http://api.nasa.gov/neo/rest/v1/neo/3757000?api_key=DEMO_KEY'},\n",
            "  'name': '(2016 PQ8)',\n",
            "  'nasa_jpl_url': 'https://ssd.jpl.nasa.gov/tools/sbdb_lookup.html#/?sstr=3757000',\n",
            "  'neo_reference_id': '3757000'}]\n"
          ]
        }
      ],
      "source": [
        "API_KEY = 'DEMO_KEY'  # substitute your API key here\n",
        "\n",
        "today = str(datetime.date.today())  #  Future enhancement:  str(datetime.date.today())   # Today's date as a string!\n",
        "# Use an f-string here to \"format\" the date and API key varaibles.\n",
        "url = f'https://api.nasa.gov/neo/rest/v1/feed?start_date={today}&end_date={today}&api_key={API_KEY}'\n",
        "\n",
        "response = requests.request(\"GET\", url, headers={}, data={})\n",
        "\n",
        "data = json.loads(response.text)  # recall json.loads for lab 1\n",
        "\n",
        "# TIP: print(data) to see the whole data structure returned, here we grab just the list of NEO's:\n",
        "n_results = data['element_count']\n",
        "neos = data['near_earth_objects'][today]\n",
        "print(f'{n_results} Near Earth Objects found for {today}')\n",
        "pprint(neos[:5])\n",
        "\n",
        "# neos = data['near_earth_objects'][today]\n",
        "# pprint(neos[:3])"
      ],
      "metadata": {
        "pycharm": {
          "name": "#%%\n"
        },
        "ExecuteTime": {
          "end_time": "2024-01-04T04:05:43.064157Z",
          "start_time": "2024-01-04T04:05:38.691252Z"
        },
        "colab": {
          "base_uri": "https://localhost:8080/"
        },
        "id": "FvqlDjWDSeFN",
        "outputId": "c89238b1-e55f-43a2-fda9-1feaf100c71d"
      }
    },
    {
      "cell_type": "markdown",
      "source": [
        "Next we extract just the potentially hazerdous asteroids, using a Comp115-style list accumulator *loop*:"
      ],
      "metadata": {
        "collapsed": false,
        "pycharm": {
          "name": "#%% md\n"
        },
        "id": "J-fh1CBtSeFP"
      }
    },
    {
      "cell_type": "code",
      "execution_count": 49,
      "metadata": {
        "id": "JDGbYTySU3BP",
        "ExecuteTime": {
          "end_time": "2024-01-04T04:05:43.065108Z",
          "start_time": "2024-01-04T04:05:43.062239Z"
        },
        "colab": {
          "base_uri": "https://localhost:8080/"
        },
        "outputId": "59731d57-fb19-41c8-ad9c-76b3305a4a7a"
      },
      "outputs": [
        {
          "output_type": "stream",
          "name": "stdout",
          "text": [
            "1 potentially hazardous asteroids identified.\n"
          ]
        }
      ],
      "source": [
        "hazards =  []\n",
        "for item in neos:\n",
        "  if item['is_potentially_hazardous_asteroid'] is True:\n",
        "    hazards.append(item)\n",
        "print(f'{len(hazards)} potentially hazardous asteroids identified.')"
      ]
    },
    {
      "cell_type": "markdown",
      "source": [
        "## Exercise 1\n",
        "\n",
        "In the code cell below, **re-write the accumulator loop above** as a [list comprehension](https://realpython.com/lessons/list-comprehensions-overview/) that implements a [\"filter\"](https://youtu.be/hUes6y2b--0)\n",
        "Notice how this provides a concise way to \"filter\" items of interest from a larger data set."
      ],
      "metadata": {
        "collapsed": false,
        "pycharm": {
          "name": "#%% md\n"
        },
        "id": "NSrlVeTNSeFW"
      }
    },
    {
      "cell_type": "code",
      "execution_count": 50,
      "outputs": [
        {
          "output_type": "execute_result",
          "data": {
            "text/plain": [
              "1"
            ]
          },
          "metadata": {},
          "execution_count": 50
        }
      ],
      "source": [
        "# Ex. 1 your code here\n",
        "\n",
        "hazards = [item for item in neos if item['is_potentially_hazardous_asteroid'] is True]\n",
        "len(hazards)"
      ],
      "metadata": {
        "pycharm": {
          "name": "#%%\n"
        },
        "ExecuteTime": {
          "end_time": "2024-01-04T04:05:43.069849Z",
          "start_time": "2024-01-04T04:05:43.065922Z"
        },
        "colab": {
          "base_uri": "https://localhost:8080/"
        },
        "id": "ImuylLSfSeFX",
        "outputId": "cf7c2663-bcd2-41a1-9274-4dd70cc8a7ea"
      }
    },
    {
      "cell_type": "markdown",
      "source": [
        "## Fetch Complete Data for One Asteroid\n",
        "\n",
        "Notice that the record for each `neo` is a dictionary with `id` field that uniquely identifies this record in the database.\n",
        "\n",
        "We can use this `id` to fetch complete orbital and close approach data for the NEO.\n",
        "\n",
        "For example, this query fetches the complete data set for the first hazardous asteroid...\n"
      ],
      "metadata": {
        "collapsed": false,
        "pycharm": {
          "name": "#%% md\n"
        },
        "id": "U_wP6_goSeFY"
      }
    },
    {
      "cell_type": "code",
      "execution_count": 51,
      "outputs": [
        {
          "output_type": "stream",
          "name": "stdout",
          "text": [
            "{'absolute_magnitude_h': 21.368,\n",
            " 'close_approach_data': [{'close_approach_date': '2000-10-14',\n",
            "                          'close_approach_date_full': '2000-Oct-14 13:03',\n",
            "                          'epoch_date_close_approach': 971528580000,\n",
            "                          'miss_distance': {'astronomical': '0.1244742402',\n",
            "                                            'kilometers': '18621081.203788374',\n",
            "                                            'lunar': '48.4204794378',\n",
            "                                            'miles': '11570603.3240286012'},\n",
            "                          'orbiting_body': 'Venus',\n",
            "                          'relative_velocity': {'kilometers_per_hour': '76500.568791238',\n",
            "                                                'kilometers_per_second': '21.2501579976',\n",
            "                                                'miles_per_hour': '47534.4784247556'}},\n",
            "                         {'close_approach_date': '2002-08-19',\n",
            "                          'close_approach_date_full': '2002-Aug-19 14:32',\n",
            "                          'epoch_date_close_approach': 1029767520000,\n",
            "                          'miss_distance': {'astronomical': '0.3232844796',\n",
            "                                            'kilometers': '48362669.552218452',\n",
            "                                            'lunar': '125.7576625644',\n",
            "                                            'miles': '30051169.3685085576'},\n",
            "                          'orbiting_body': 'Earth',\n",
            "                          'relative_velocity': {'kilometers_per_hour': '112863.3508126811',\n",
            "                                                'kilometers_per_second': '31.3509307813',\n",
            "                                                'miles_per_hour': '70128.8970646906'}},\n",
            "                         {'close_approach_date': '2005-12-31',\n",
            "                          'close_approach_date_full': '2005-Dec-31 08:18',\n",
            "                          'epoch_date_close_approach': 1136017080000,\n",
            "                          'miss_distance': {'astronomical': '0.4223156395',\n",
            "                                            'kilometers': '63177520.136887865',\n",
            "                                            'lunar': '164.2807837655',\n",
            "                                            'miles': '39256690.656127937'},\n",
            "                          'orbiting_body': 'Earth',\n",
            "                          'relative_velocity': {'kilometers_per_hour': '126234.9529285421',\n",
            "                                                'kilometers_per_second': '35.0652647024',\n",
            "                                                'miles_per_hour': '78437.4906127377'}},\n",
            "                         {'close_approach_date': '2011-08-27',\n",
            "                          'close_approach_date_full': '2011-Aug-27 16:14',\n",
            "                          'epoch_date_close_approach': 1314461640000,\n",
            "                          'miss_distance': {'astronomical': '0.4703768096',\n",
            "                                            'kilometers': '70367368.813555552',\n",
            "                                            'lunar': '182.9765789344',\n",
            "                                            'miles': '43724255.4600765376'},\n",
            "                          'orbiting_body': 'Earth',\n",
            "                          'relative_velocity': {'kilometers_per_hour': '128608.7126311544',\n",
            "                                                'kilometers_per_second': '35.7246423975',\n",
            "                                                'miles_per_hour': '79912.4525790637'}},\n",
            "                         {'close_approach_date': '2015-01-08',\n",
            "                          'close_approach_date_full': '2015-Jan-08 00:51',\n",
            "                          'epoch_date_close_approach': 1420678260000,\n",
            "                          'miss_distance': {'astronomical': '0.2627279592',\n",
            "                                            'kilometers': '39303543.085766904',\n",
            "                                            'lunar': '102.2011761288',\n",
            "                                            'miles': '24422089.2061711152'},\n",
            "                          'orbiting_body': 'Earth',\n",
            "                          'relative_velocity': {'kilometers_per_hour': '109394.0464880156',\n",
            "                                                'kilometers_per_second': '30.3872351356',\n",
            "                                                'miles_per_hour': '67973.2062747339'}},\n",
            "                         {'close_approach_date': '2022-06-04',\n",
            "                          'close_approach_date_full': '2022-Jun-04 07:18',\n",
            "                          'epoch_date_close_approach': 1654327080000,\n",
            "                          'miss_distance': {'astronomical': '0.4780602871',\n",
            "                                            'kilometers': '71516800.681748477',\n",
            "                                            'lunar': '185.9654516819',\n",
            "                                            'miles': '44438479.3039719026'},\n",
            "                          'orbiting_body': 'Earth',\n",
            "                          'relative_velocity': {'kilometers_per_hour': '68629.4876052083',\n",
            "                                                'kilometers_per_second': '19.063746557',\n",
            "                                                'miles_per_hour': '42643.6946733584'}},\n",
            "                         {'close_approach_date': '2024-01-15',\n",
            "                          'close_approach_date_full': '2024-Jan-15 17:39',\n",
            "                          'epoch_date_close_approach': 1705340340000,\n",
            "                          'miss_distance': {'astronomical': '0.0986291772',\n",
            "                                            'kilometers': '14754714.828972564',\n",
            "                                            'lunar': '38.3667499308',\n",
            "                                            'miles': '9168154.6617428232'},\n",
            "                          'orbiting_body': 'Earth',\n",
            "                          'relative_velocity': {'kilometers_per_hour': '92980.4947535441',\n",
            "                                                'kilometers_per_second': '25.8279152093',\n",
            "                                                'miles_per_hour': '57774.463531723'}},\n",
            "                         {'close_approach_date': '2027-11-12',\n",
            "                          'close_approach_date_full': '2027-Nov-12 10:15',\n",
            "                          'epoch_date_close_approach': 1826014500000,\n",
            "                          'miss_distance': {'astronomical': '0.0643350314',\n",
            "                                            'kilometers': '9624383.663823118',\n",
            "                                            'lunar': '25.0263272146',\n",
            "                                            'miles': '5980314.6978223084'},\n",
            "                          'orbiting_body': 'Venus',\n",
            "                          'relative_velocity': {'kilometers_per_hour': '85228.6202811774',\n",
            "                                                'kilometers_per_second': '23.6746167448',\n",
            "                                                'miles_per_hour': '52957.7501963794'}},\n",
            "                         {'close_approach_date': '2031-06-26',\n",
            "                          'close_approach_date_full': '2031-Jun-26 05:13',\n",
            "                          'epoch_date_close_approach': 1940217180000,\n",
            "                          'miss_distance': {'astronomical': '0.3943721612',\n",
            "                                            'kilometers': '58997235.302816644',\n",
            "                                            'lunar': '153.4107707068',\n",
            "                                            'miles': '36659182.1083079272'},\n",
            "                          'orbiting_body': 'Earth',\n",
            "                          'relative_velocity': {'kilometers_per_hour': '61765.6720025048',\n",
            "                                                'kilometers_per_second': '17.1571311118',\n",
            "                                                'miles_per_hour': '38378.7865840009'}},\n",
            "                         {'close_approach_date': '2033-01-21',\n",
            "                          'close_approach_date_full': '2033-Jan-21 00:18',\n",
            "                          'epoch_date_close_approach': 1989879480000,\n",
            "                          'miss_distance': {'astronomical': '0.0339638138',\n",
            "                                            'kilometers': '5080914.201556606',\n",
            "                                            'lunar': '13.2119235682',\n",
            "                                            'miles': '3157133.6866129228'},\n",
            "                          'orbiting_body': 'Earth',\n",
            "                          'relative_velocity': {'kilometers_per_hour': '80577.2928682746',\n",
            "                                                'kilometers_per_second': '22.3825813523',\n",
            "                                                'miles_per_hour': '50067.5962269565'}},\n",
            "                         {'close_approach_date': '2040-07-16',\n",
            "                          'close_approach_date_full': '2040-Jul-16 15:23',\n",
            "                          'epoch_date_close_approach': 2226064980000,\n",
            "                          'miss_distance': {'astronomical': '0.2579791292',\n",
            "                                            'kilometers': '38593128.232774804',\n",
            "                                            'lunar': '100.3538812588',\n",
            "                                            'miles': '23980657.8859641352'},\n",
            "                          'orbiting_body': 'Earth',\n",
            "                          'relative_velocity': {'kilometers_per_hour': '64811.4621523283',\n",
            "                                                'kilometers_per_second': '18.0031839312',\n",
            "                                                'miles_per_hour': '40271.3221357064'}},\n",
            "                         {'close_approach_date': '2042-01-29',\n",
            "                          'close_approach_date_full': '2042-Jan-29 16:23',\n",
            "                          'epoch_date_close_approach': 2274625380000,\n",
            "                          'miss_distance': {'astronomical': '0.2128069434',\n",
            "                                            'kilometers': '31835465.453850558',\n",
            "                                            'lunar': '82.7819009826',\n",
            "                                            'miles': '19781640.9461433804'},\n",
            "                          'orbiting_body': 'Earth',\n",
            "                          'relative_velocity': {'kilometers_per_hour': '65040.0776862984',\n",
            "                                                'kilometers_per_second': '18.0666882462',\n",
            "                                                'miles_per_hour': '40413.3749379114'}},\n",
            "                         {'close_approach_date': '2049-07-29',\n",
            "                          'close_approach_date_full': '2049-Jul-29 21:26',\n",
            "                          'epoch_date_close_approach': 2511206760000,\n",
            "                          'miss_distance': {'astronomical': '0.1176877703',\n",
            "                                            'kilometers': '17605839.761929261',\n",
            "                                            'lunar': '45.7805426467',\n",
            "                                            'miles': '10939761.5445793618'},\n",
            "                          'orbiting_body': 'Earth',\n",
            "                          'relative_velocity': {'kilometers_per_hour': '77757.6796986424',\n",
            "                                                'kilometers_per_second': '21.5993554718',\n",
            "                                                'miles_per_hour': '48315.5982549703'}},\n",
            "                         {'close_approach_date': '2051-02-12',\n",
            "                          'close_approach_date_full': '2051-Feb-12 00:41',\n",
            "                          'epoch_date_close_approach': 2559775260000,\n",
            "                          'miss_distance': {'astronomical': '0.3933251705',\n",
            "                                            'kilometers': '58840607.724186835',\n",
            "                                            'lunar': '153.0034913245',\n",
            "                                            'miles': '36561858.243914923'},\n",
            "                          'orbiting_body': 'Earth',\n",
            "                          'relative_velocity': {'kilometers_per_hour': '51994.9121842469',\n",
            "                                                'kilometers_per_second': '14.4430311623',\n",
            "                                                'miles_per_hour': '32307.6164069283'}},\n",
            "                         {'close_approach_date': '2054-12-10',\n",
            "                          'close_approach_date_full': '2054-Dec-10 21:17',\n",
            "                          'epoch_date_close_approach': 2680550220000,\n",
            "                          'miss_distance': {'astronomical': '0.0729008496',\n",
            "                                            'kilometers': '10905811.821350352',\n",
            "                                            'lunar': '28.3584304944',\n",
            "                                            'miles': '6776557.2326527776'},\n",
            "                          'orbiting_body': 'Venus',\n",
            "                          'relative_velocity': {'kilometers_per_hour': '97245.3249382536',\n",
            "                                                'kilometers_per_second': '27.0125902606',\n",
            "                                                'miles_per_hour': '60424.4631539943'}},\n",
            "                         {'close_approach_date': '2058-08-09',\n",
            "                          'close_approach_date_full': '2058-Aug-09 01:17',\n",
            "                          'epoch_date_close_approach': 2796081420000,\n",
            "                          'miss_distance': {'astronomical': '0.1449806705',\n",
            "                                            'kilometers': '21688799.497971835',\n",
            "                                            'lunar': '56.3974808245',\n",
            "                                            'miles': '13476795.080747923'},\n",
            "                          'orbiting_body': 'Earth',\n",
            "                          'relative_velocity': {'kilometers_per_hour': '93088.1288509132',\n",
            "                                                'kilometers_per_second': '25.8578135697',\n",
            "                                                'miles_per_hour': '57841.3431740577'}},\n",
            "                         {'close_approach_date': '2067-08-19',\n",
            "                          'close_approach_date_full': '2067-Aug-19 09:34',\n",
            "                          'epoch_date_close_approach': 3080972040000,\n",
            "                          'miss_distance': {'astronomical': '0.3147847532',\n",
            "                                            'kilometers': '47091128.587195684',\n",
            "                                            'lunar': '122.4512689948',\n",
            "                                            'miles': '29261070.4502170792'},\n",
            "                          'orbiting_body': 'Earth',\n",
            "                          'relative_velocity': {'kilometers_per_hour': '111809.8832957485',\n",
            "                                                'kilometers_per_second': '31.0583009155',\n",
            "                                                'miles_per_hour': '69474.31331785'}},\n",
            "                         {'close_approach_date': '2070-12-31',\n",
            "                          'close_approach_date_full': '2070-Dec-31 19:28',\n",
            "                          'epoch_date_close_approach': 3187279680000,\n",
            "                          'miss_distance': {'astronomical': '0.421276337',\n",
            "                                            'kilometers': '63022042.69660219',\n",
            "                                            'lunar': '163.876495093',\n",
            "                                            'miles': '39160081.454562622'},\n",
            "                          'orbiting_body': 'Earth',\n",
            "                          'relative_velocity': {'kilometers_per_hour': '126100.8211480999',\n",
            "                                                'kilometers_per_second': '35.0280058745',\n",
            "                                                'miles_per_hour': '78354.1463406069'}},\n",
            "                         {'close_approach_date': '2076-08-28',\n",
            "                          'close_approach_date_full': '2076-Aug-28 05:46',\n",
            "                          'epoch_date_close_approach': 3365819160000,\n",
            "                          'miss_distance': {'astronomical': '0.4955378253',\n",
            "                                            'kilometers': '74131403.169312111',\n",
            "                                            'lunar': '192.7642140417',\n",
            "                                            'miles': '46063117.9542486918'},\n",
            "                          'orbiting_body': 'Earth',\n",
            "                          'relative_velocity': {'kilometers_per_hour': '131165.5604661619',\n",
            "                                                'kilometers_per_second': '36.4348779073',\n",
            "                                                'miles_per_hour': '81501.178390766'}},\n",
            "                         {'close_approach_date': '2080-01-10',\n",
            "                          'close_approach_date_full': '2080-Jan-10 01:00',\n",
            "                          'epoch_date_close_approach': 3472074000000,\n",
            "                          'miss_distance': {'astronomical': '0.2280766781',\n",
            "                                            'kilometers': '34119785.240435647',\n",
            "                                            'lunar': '88.7218277809',\n",
            "                                            'miles': '21201051.4425880486'},\n",
            "                          'orbiting_body': 'Earth',\n",
            "                          'relative_velocity': {'kilometers_per_hour': '105815.0331980669',\n",
            "                                                'kilometers_per_second': '29.3930647772',\n",
            "                                                'miles_per_hour': '65749.3466002099'}},\n",
            "                         {'close_approach_date': '2083-11-06',\n",
            "                          'close_approach_date_full': '2083-Nov-06 06:35',\n",
            "                          'epoch_date_close_approach': 3592708500000,\n",
            "                          'miss_distance': {'astronomical': '0.0572559366',\n",
            "                                            'kilometers': '8565366.160215042',\n",
            "                                            'lunar': '22.2725593374',\n",
            "                                            'miles': '5322271.7349378996'},\n",
            "                          'orbiting_body': 'Venus',\n",
            "                          'relative_velocity': {'kilometers_per_hour': '86399.5494745195',\n",
            "                                                'kilometers_per_second': '23.999874854',\n",
            "                                                'miles_per_hour': '53685.3200609869'}},\n",
            "                         {'close_approach_date': '2089-01-17',\n",
            "                          'close_approach_date_full': '2089-Jan-17 15:37',\n",
            "                          'epoch_date_close_approach': 3756814620000,\n",
            "                          'miss_distance': {'astronomical': '0.0417541316',\n",
            "                                            'kilometers': '6246329.151059692',\n",
            "                                            'lunar': '16.2423571924',\n",
            "                                            'miles': '3881288.9567080696'},\n",
            "                          'orbiting_body': 'Earth',\n",
            "                          'relative_velocity': {'kilometers_per_hour': '87477.3204567592',\n",
            "                                                'kilometers_per_second': '24.2992556824',\n",
            "                                                'miles_per_hour': '54355.0050360346'}},\n",
            "                         {'close_approach_date': '2096-07-03',\n",
            "                          'close_approach_date_full': '2096-Jul-03 16:13',\n",
            "                          'epoch_date_close_approach': 3992170380000,\n",
            "                          'miss_distance': {'astronomical': '0.3507477028',\n",
            "                                            'kilometers': '52471109.246273036',\n",
            "                                            'lunar': '136.4408563892',\n",
            "                                            'miles': '32604035.4164224568'},\n",
            "                          'orbiting_body': 'Earth',\n",
            "                          'relative_velocity': {'kilometers_per_hour': '61475.7047901451',\n",
            "                                                'kilometers_per_second': '17.0765846639',\n",
            "                                                'miles_per_hour': '38198.6122347432'}},\n",
            "                         {'close_approach_date': '2098-01-23',\n",
            "                          'close_approach_date_full': '2098-Jan-23 18:28',\n",
            "                          'epoch_date_close_approach': 4041340080000,\n",
            "                          'miss_distance': {'astronomical': '0.0877800009',\n",
            "                                            'kilometers': '13131701.163238083',\n",
            "                                            'lunar': '34.1464203501',\n",
            "                                            'miles': '8159660.7343402254'},\n",
            "                          'orbiting_body': 'Earth',\n",
            "                          'relative_velocity': {'kilometers_per_hour': '75606.8920292851',\n",
            "                                                'kilometers_per_second': '21.0019144526',\n",
            "                                                'miles_per_hour': '46979.1824389744'}},\n",
            "                         {'close_approach_date': '2105-07-20',\n",
            "                          'close_approach_date_full': '2105-Jul-20 16:08',\n",
            "                          'epoch_date_close_approach': 4277549280000,\n",
            "                          'miss_distance': {'astronomical': '0.2290514436',\n",
            "                                            'kilometers': '34265608.082985132',\n",
            "                                            'lunar': '89.1010115604',\n",
            "                                            'miles': '21291661.5553015416'},\n",
            "                          'orbiting_body': 'Earth',\n",
            "                          'relative_velocity': {'kilometers_per_hour': '67091.8477335466',\n",
            "                                                'kilometers_per_second': '18.6366243704',\n",
            "                                                'miles_per_hour': '41688.265054214'}},\n",
            "                         {'close_approach_date': '2107-02-01',\n",
            "                          'close_approach_date_full': '2107-Feb-01 03:42',\n",
            "                          'epoch_date_close_approach': 4325974920000,\n",
            "                          'miss_distance': {'astronomical': '0.2406305237',\n",
            "                                            'kilometers': '35997813.802504519',\n",
            "                                            'lunar': '93.6052737193',\n",
            "                                            'miles': '22368004.2787356022'},\n",
            "                          'orbiting_body': 'Earth',\n",
            "                          'relative_velocity': {'kilometers_per_hour': '62776.1404067706',\n",
            "                                                'kilometers_per_second': '17.4378167797',\n",
            "                                                'miles_per_hour': '39006.6523544181'}},\n",
            "                         {'close_approach_date': '2110-12-02',\n",
            "                          'close_approach_date_full': '2110-Dec-02 21:04',\n",
            "                          'epoch_date_close_approach': 4446997440000,\n",
            "                          'miss_distance': {'astronomical': '0.0483682832',\n",
            "                                            'kilometers': '7235792.142276784',\n",
            "                                            'lunar': '18.8152621648',\n",
            "                                            'miles': '4496112.7496922592'},\n",
            "                          'orbiting_body': 'Venus',\n",
            "                          'relative_velocity': {'kilometers_per_hour': '89123.5850796148',\n",
            "                                                'kilometers_per_second': '24.756551411',\n",
            "                                                'miles_per_hour': '55377.9298512751'}}],\n",
            " 'designation': '2023 XW14',\n",
            " 'estimated_diameter': {'feet': {'estimated_diameter_max': 1038.5443084506,\n",
            "                                 'estimated_diameter_min': 464.4511342682},\n",
            "                        'kilometers': {'estimated_diameter_max': 0.3165482951,\n",
            "                                       'estimated_diameter_min': 0.1415647012},\n",
            "                        'meters': {'estimated_diameter_max': 316.5482950862,\n",
            "                                   'estimated_diameter_min': 141.5647011949},\n",
            "                        'miles': {'estimated_diameter_max': 0.1966939307,\n",
            "                                  'estimated_diameter_min': 0.0879641999}},\n",
            " 'id': '54416964',\n",
            " 'is_potentially_hazardous_asteroid': True,\n",
            " 'is_sentry_object': False,\n",
            " 'links': {'self': 'http://api.nasa.gov/neo/rest/v1/neo/54416964?api_key=DEMO_KEY'},\n",
            " 'name': '(2023 XW14)',\n",
            " 'nasa_jpl_url': 'https://ssd.jpl.nasa.gov/tools/sbdb_lookup.html#/?sstr=54416964',\n",
            " 'neo_reference_id': '54416964',\n",
            " 'orbital_data': {'aphelion_distance': '2.407313089865627',\n",
            "                  'ascending_node_longitude': '300.1245134754989',\n",
            "                  'data_arc_in_days': 32,\n",
            "                  'eccentricity': '.6238706822456823',\n",
            "                  'epoch_osculation': '2460200.5',\n",
            "                  'equinox': 'J2000',\n",
            "                  'first_observation_date': '2023-12-11',\n",
            "                  'inclination': '24.44818322257739',\n",
            "                  'jupiter_tisserand_invariant': '4.269',\n",
            "                  'last_observation_date': '2024-01-12',\n",
            "                  'mean_anomaly': '265.5173048011474',\n",
            "                  'mean_motion': '.5460499471741455',\n",
            "                  'minimum_orbit_intersection': '.00858118',\n",
            "                  'observations_used': 82,\n",
            "                  'orbit_class': {'orbit_class_description': 'Near-Earth '\n",
            "                                                             'asteroid orbits '\n",
            "                                                             'which cross the '\n",
            "                                                             'Earth’s orbit '\n",
            "                                                             'similar to that '\n",
            "                                                             'of 1862 Apollo',\n",
            "                                  'orbit_class_range': 'a (semi-major axis) > '\n",
            "                                                       '1.0 AU; q (perihelion) '\n",
            "                                                       '< 1.017 AU',\n",
            "                                  'orbit_class_type': 'APO'},\n",
            "                  'orbit_determination_date': '2024-01-13 05:21:20',\n",
            "                  'orbit_id': '13',\n",
            "                  'orbit_uncertainty': '7',\n",
            "                  'orbital_period': '659.280349468085',\n",
            "                  'perihelion_argument': '276.0451416436887',\n",
            "                  'perihelion_distance': '.5575942961541847',\n",
            "                  'perihelion_time': '2460373.529400859406',\n",
            "                  'semi_major_axis': '1.482453693009906'}}\n"
          ]
        }
      ],
      "source": [
        "id = hazards[0]['id']\n",
        "url = f'https://api.nasa.gov/neo/rest/v1/neo/{id}?api_key={API_KEY}'\n",
        "response = requests.request(\"GET\", url, headers={}, data={})\n",
        "data = json.loads(response.text)\n",
        "\n",
        "pprint(data)\n",
        "# print(id)"
      ],
      "metadata": {
        "pycharm": {
          "name": "#%%\n"
        },
        "ExecuteTime": {
          "end_time": "2024-01-04T04:05:43.787125Z",
          "start_time": "2024-01-04T04:05:43.067936Z"
        },
        "colab": {
          "base_uri": "https://localhost:8080/"
        },
        "id": "9YS3JP74SeFa",
        "outputId": "0a8117b2-c6ca-4378-9d9b-8438d562b223"
      }
    },
    {
      "cell_type": "markdown",
      "source": [
        "Notice that the `miss_distance` field contains the distance (in various units) by which the NEO missed an \"orbiting body\".\n",
        "\n",
        "## Exercise 2\n",
        "\n",
        "In the code cell below, write a python function that takes a list of \"close approach data\" as a parameter,\n",
        "and returns a 2-tuple with the (date, miss km) of the closest approach to Earth in the list (where \"miss km\" is the miss distance in km).\n",
        "\n",
        "Hints:\n",
        "* notice the input is a list of dictionaries.  Each dictionary has a 'close_approach_date\", \"orbiting_body\", and 'miss_distance' field.\n",
        "* we are only interested in the closest approach to \"Earth\"\n",
        "* use a loop if that is easier to understand - we will look at more compact algorithms to solve this problem in class.\n",
        "\n",
        "Add at least one unit test to check your work - note the test data only needs dictionaries with the fields your function actually uses.\n"
      ],
      "metadata": {
        "id": "DNRs7ynOYwYk"
      }
    },
    {
      "cell_type": "code",
      "source": [
        "# Ex. 2 your code here\n",
        "\n",
        "close_approach_data = data['close_approach_data']\n",
        "\n",
        "earth_approaches = [approach for approach in close_approach_data if\n",
        "                    approach['orbiting_body'] == 'Earth']\n",
        "\n",
        "len(earth_approaches)"
      ],
      "metadata": {
        "colab": {
          "base_uri": "https://localhost:8080/"
        },
        "id": "tiyXTDfnZAd0",
        "outputId": "7a3f05ad-f2bd-4189-85e0-34157e29f0e1",
        "ExecuteTime": {
          "end_time": "2024-01-04T04:05:43.790535Z",
          "start_time": "2024-01-04T04:05:43.787064Z"
        }
      },
      "execution_count": 56,
      "outputs": [
        {
          "output_type": "execute_result",
          "data": {
            "text/plain": [
              "22"
            ]
          },
          "metadata": {},
          "execution_count": 56
        }
      ]
    },
    {
      "cell_type": "markdown",
      "source": [
        "## Challenge - Take your skills to the next level...\n",
        "## Exercise 3\n",
        "\n",
        "In the code cell below, write a complete program that:\n",
        " 1. fetches the list of NEO's for this week.\n",
        " 2. for each NEO, fetch it's complete orbital data and determine its closest approach to Earth\n",
        " 3. identify which NEO from this week's data makes the closet approach to earth\n",
        " 4. print a nice message with information about the NEO, which it will approach the Earth, and how close it will come.\n",
        "\n",
        "Hints:\n",
        "* you'll need the start and end date - end date is today, see if you can use a [`timedelta`](https://docs.python.org/3/library/datetime.html#timedelta-objects) object to ge the start date (you can do basic \"date math\" with `timedelta` and `date` objects!)\n",
        "* you may need to modify the function we wrote in Ex. 2 to return a triple with the NEO's id included;\n",
        "* lots of opportunity here for more practice with list comprehensions\n"
      ],
      "metadata": {
        "collapsed": false,
        "id": "MZLNALZbSeFb"
      }
    },
    {
      "cell_type": "code",
      "source": [
        "# Ex. 3 (challenge) your code here"
      ],
      "metadata": {
        "id": "Ds1YevErlzCe",
        "pycharm": {
          "name": "#%%\n"
        },
        "ExecuteTime": {
          "end_time": "2024-01-04T04:05:43.790766Z",
          "start_time": "2024-01-04T04:05:43.789211Z"
        }
      },
      "execution_count": 53,
      "outputs": []
    }
  ]
}