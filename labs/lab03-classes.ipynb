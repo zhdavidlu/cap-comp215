{
  "nbformat": 4,
  "nbformat_minor": 0,
  "metadata": {
    "colab": {
      "name": "Lab2-NEO.ipynb",
      "provenance": []
    },
    "kernelspec": {
      "name": "python3",
      "language": "python",
      "display_name": "Python 3 (ipykernel)"
    },
    "language_info": {
      "name": "python"
    }
  },
  "cells": [
    {
      "cell_type": "markdown",
      "source": [
        "COMP 215 - LAB 3 Classes (NEO)\n",
        "----------------\n",
        "#### Name: David Lu\n",
        "#### Date: 24 Jan 2024\n",
        "\n",
        "This lab exercise introduces `class` as a means of organizing related data and functions.\n",
        "\n",
        "**Building on new concepts from lab 2**:\n",
        "  * a `record` is a related collection of data, with fields for each data value\n",
        "  * an `API` is an \"Application Programmers Interface\" defining how a programmer interacts with a system.\n",
        "  * *f-string* simplifies string formatting operations\n",
        "\n",
        "**New Python Concepts**:\n",
        "  * the `class` keyword allows you define a new data `type`, with a set of operations on that data.\n",
        "  * a `dataclass` simplifies class definition for classes that primarily encapsulate a data structure.\n",
        "\n",
        "As usual, the first code cell simply imports all the modules we'll be using..."
      ],
      "metadata": {
        "id": "nbRPZPKZU5Pk"
      }
    },
    {
      "cell_type": "code",
      "execution_count": 1,
      "outputs": [],
      "source": [
        "import datetime, json, requests\n",
        "from pprint import pprint    # Pretty Print - built-in python function to nicely format data structures"
      ],
      "metadata": {
        "pycharm": {
          "name": "#%%\n"
        },
        "ExecuteTime": {
          "end_time": "2024-01-04T04:10:54.380220Z",
          "start_time": "2024-01-04T04:10:54.335677Z"
        },
        "id": "myj-2BrU1Uth"
      }
    },
    {
      "cell_type": "markdown",
      "source": [
        "We'll continue working with [Near Earth Object](https://cneos.jpl.nasa.gov/) data\n",
        "> using NASA's API:  [https://api.nasa.gov/](https://api.nasa.gov/#NeoWS)\n",
        "\n",
        "Here's a brief review from Lab 2 on how to use it..."
      ],
      "metadata": {
        "collapsed": false,
        "pycharm": {
          "name": "#%% md\n"
        },
        "id": "WBUAou0i1Uti"
      }
    },
    {
      "cell_type": "markdown",
      "source": [
        "### Review: making a query\n",
        "\n",
        "Here's a query that gets the record for a single NEO that recently passed by."
      ],
      "metadata": {
        "collapsed": false,
        "pycharm": {
          "name": "#%% md\n"
        },
        "id": "FR-K_WBr1Utj"
      }
    },
    {
      "cell_type": "code",
      "execution_count": 17,
      "outputs": [
        {
          "output_type": "stream",
          "name": "stdout",
          "text": [
            "118 Near Earth Objects found for week of 2023-01-15\n",
            "['links', 'id', 'neo_reference_id', 'name', 'designation', 'nasa_jpl_url', 'absolute_magnitude_h', 'estimated_diameter']\n",
            "['is_potentially_hazardous_asteroid', 'close_approach_data', 'orbital_data', 'is_sentry_object']\n",
            "\n",
            "name = (2023 BM1), id: 54339874, hazardous? False\n",
            "\n",
            "{'feet': {'estimated_diameter_max': 207.9816551205,\n",
            "          'estimated_diameter_min': 93.0122237845},\n",
            " 'kilometers': {'estimated_diameter_max': 0.0633928065,\n",
            "                'estimated_diameter_min': 0.0283501249},\n",
            " 'meters': {'estimated_diameter_max': 63.3928064522,\n",
            "            'estimated_diameter_min': 28.3501249023},\n",
            " 'miles': {'estimated_diameter_max': 0.0393904515,\n",
            "           'estimated_diameter_min': 0.0176159455}}\n",
            "\n",
            "{'close_approach_date': '1949-07-04',\n",
            " 'close_approach_date_full': '1949-Jul-04 22:19',\n",
            " 'epoch_date_close_approach': -646710060000,\n",
            " 'miss_distance': {'astronomical': '0.419726307',\n",
            "                   'kilometers': '62790161.51016609',\n",
            "                   'lunar': '163.273533423',\n",
            "                   'miles': '39015997.166588442'},\n",
            " 'orbiting_body': 'Earth',\n",
            " 'relative_velocity': {'kilometers_per_hour': '73509.6739172087',\n",
            "                       'kilometers_per_second': '20.4193538659',\n",
            "                       'miles_per_hour': '45676.0526626122'}}\n"
          ]
        }
      ],
      "source": [
        "# API_KEY = 'DEMO_KEY'  # substitute your API key here\n",
        "API_KEY = 'MQ8RytTcgwsCHIorzTANVhiyuM5Ghqn230HOkCSd'\n",
        "\n",
        "def get_neos(start_date):\n",
        "    \"\"\" Return a list of NEO for the week starting at start_date \"\"\"\n",
        "    url = f'https://api.nasa.gov/neo/rest/v1/feed?start_date={start_date}&api_key={API_KEY}'\n",
        "    # Fetch last week's NEO feed\n",
        "    response = requests.request(\"GET\", url, headers={}, data={})\n",
        "    data = json.loads(response.text)\n",
        "    print(f'{data[\"element_count\"]} Near Earth Objects found for week of {start_date}')\n",
        "    return [neo for dated_records in data['near_earth_objects'].values() for neo in dated_records ]\n",
        "\n",
        "def get_neo(id):\n",
        "    \"\"\" Return a NEO record for the given id \"\"\"\n",
        "    url = f'https://api.nasa.gov/neo/rest/v1/neo/{id}?api_key={API_KEY}'\n",
        "    response = requests.request(\"GET\", url, headers={}, data={})\n",
        "    return json.loads(response.text)\n",
        "\n",
        "week_start = '2023-01-15'\n",
        "neos = get_neos(week_start)\n",
        "assert len(neos) > 0, f'Oh oh!  No NEOs found for {week_start}'\n",
        "neo = get_neo(neos[-1]['id'])  # get the very latest NEO\n",
        "# pprint(neo)\n",
        "\n",
        "keys = list(neo.keys())\n",
        "print(f'{keys[:8]}\\n{keys[8:]}\\n')\n",
        "print(f'name = {neo[\"name\"]}, id: {neo[\"id\"]}, hazardous? {neo[\"is_potentially_hazardous_asteroid\"]}\\n')\n",
        "pprint(neo['estimated_diameter'])\n",
        "print()\n",
        "pprint(neo['close_approach_data'][0])"
      ],
      "metadata": {
        "pycharm": {
          "name": "#%%\n"
        },
        "ExecuteTime": {
          "end_time": "2024-01-04T04:11:12.889668Z",
          "start_time": "2024-01-04T04:10:54.383166Z"
        },
        "id": "hY5KZMMG1Utk",
        "outputId": "c8cdb730-d412-47a4-8478-4cccb6bc2468",
        "colab": {
          "base_uri": "https://localhost:8080/"
        }
      }
    },
    {
      "cell_type": "markdown",
      "source": [
        "## Exercise 1:  Define an Asteroid class\n",
        "\n",
        "Define a simple Asteroid class with some basic state variables for a single NEO.  Your Asteroid class should define at least 4 \"state variables:”\n",
        "\n",
        "    id\n",
        "    name\n",
        "    estimated_diameter (m)\n",
        "    is_potentially_hazardous (bool)\n",
        "\n",
        "Operations must include:\n",
        "* `__init__(self, ...)` method to initialize a new Asteroid object with specific data values\n",
        "* `__str__(self)`, and `__repr__(self)` methods that return nicely formatted string representations of the object.\n",
        "  \n",
        "OR...\n",
        "use a `@dataclass` and it will supply most of that boilerplate code for you!\n",
        "\n",
        "Write a little code to test your new class."
      ],
      "metadata": {
        "collapsed": false,
        "pycharm": {
          "name": "#%% md\n"
        },
        "id": "zclDBKqe1Utm"
      }
    },
    {
      "cell_type": "code",
      "execution_count": 23,
      "outputs": [
        {
          "output_type": "stream",
          "name": "stdout",
          "text": [
            "NEO Bob (1500) is a non-hazardous asteroid with a diameter of 20 m.\n",
            "name = Bob, id = 1500, diameter_m = 20.0, is_hazardous = False\n"
          ]
        }
      ],
      "source": [
        "# Ex.1 your code here\n",
        "\n",
        "class Asteroid:\n",
        "\n",
        "    def __init__ (self, id, name, diameter, is_hazardous):  # Constructor\n",
        "\n",
        "        self.id = id\n",
        "        self.name = name\n",
        "        self.diameter_m = diameter  # in metres\n",
        "        self.is_hazardous = is_hazardous\n",
        "\n",
        "    def __str__ (self):  # Informal string representation\n",
        "\n",
        "        hazard_description = 'hazardous' if self.is_hazardous else 'non-hazardous'\n",
        "\n",
        "        return (f'NEO {self.name} ({self.id}) is a {hazard_description} '\n",
        "        f'asteroid with a diameter of {int(self.diameter_m)} m.')\n",
        "\n",
        "    def __repr__ (self):  # Formal string representation\n",
        "\n",
        "        return (f'name = {self.name}, id = {self.id}, diameter_m = {self.diameter_m}, '\n",
        "        f'is_hazardous = {self.is_hazardous}')\n",
        "\n",
        "    @classmethod\n",
        "    def from_NEO (cls, neo_id):  # Factory method for exercise 2\n",
        "\n",
        "        # Alternative constructor:\n",
        "        # Constructs an Asteroid object from its reference ID\n",
        "\n",
        "        record = get_neo(neo_id)  # Record for NEO\n",
        "\n",
        "        id = neo_id\n",
        "        name = record['name'][1:-1]\n",
        "        is_hazardous = record['is_potentially_hazardous_asteroid']\n",
        "\n",
        "        diameter = sum([record['estimated_diameter']['meters']\n",
        "            [f'estimated_diameter_{measure}'] for measure in ('min', 'max')]) / 2\n",
        "\n",
        "        return cls(id, name, diameter, is_hazardous)  # Construct Asteroid with these parameters\n",
        "\n",
        "# ----------\n",
        "# Some quick checks for exercise 1\n",
        "\n",
        "astro_bob = Asteroid(1500, 'Bob', 20.0, False)\n",
        "\n",
        "print(astro_bob)\n",
        "print(repr(astro_bob))\n",
        "\n",
        "assert astro_bob.id == 1500\n",
        "assert astro_bob.name == 'Bob'\n",
        "assert astro_bob.diameter_m == 20.0\n",
        "assert astro_bob.is_hazardous == False\n"
      ],
      "metadata": {
        "pycharm": {
          "name": "#%%\n"
        },
        "ExecuteTime": {
          "end_time": "2024-01-04T04:11:12.891665Z",
          "start_time": "2024-01-04T04:11:12.889274Z"
        },
        "id": "drQIT4WS1Utn",
        "outputId": "b2e702a5-17b8-4ab2-8cef-edc644aa8968",
        "colab": {
          "base_uri": "https://localhost:8080/"
        }
      }
    },
    {
      "cell_type": "code",
      "source": [],
      "metadata": {
        "id": "TDncOyUxK4Z9"
      },
      "execution_count": null,
      "outputs": []
    },
    {
      "cell_type": "markdown",
      "source": [
        "## Exercise 2: Factory method: Asteriod.from_NEO\n",
        "\n",
        "We want to be able to construct Asteroid objects easily from the record returned from the NEO API.  \n",
        "\n",
        "Add an \"object factory\" method to your class...   \n",
        "\n",
        "    @classmethod\n",
        "    from_NEO(cls, neo_id):\n",
        "        ...\n",
        "\n",
        "that takes the id for a single NEO, fetches the NEO record from API, constructs and returns an Asteroid object representing that NEO.\n",
        "This kind of method is called a “Factory” because it constructs an object from raw materials.\n",
        "\n",
        "Write a little code to test your new class."
      ],
      "metadata": {
        "collapsed": false,
        "pycharm": {
          "name": "#%% md\n"
        },
        "id": "P2kHH6Fq1Utp"
      }
    },
    {
      "cell_type": "code",
      "execution_count": 24,
      "outputs": [
        {
          "output_type": "stream",
          "name": "stdout",
          "text": [
            "NEO 2023 BM1 (54339874) is a non-hazardous asteroid with a diameter of 45 m.\n",
            "name = 2023 BM1, id = 54339874, diameter_m = 45.87146567725, is_hazardous = False\n"
          ]
        }
      ],
      "source": [
        "# Ex. 2 your code here\n",
        "\n",
        "# Method definition is included inside the Asteroid class definition\n",
        "# (see code block for exercise 1). Here's an example of the method in action:\n",
        "\n",
        "example = Asteroid.from_NEO('54339874')\n",
        "\n",
        "print(example)\n",
        "print(repr(example))"
      ],
      "metadata": {
        "pycharm": {
          "name": "#%%\n"
        },
        "ExecuteTime": {
          "end_time": "2024-01-04T04:11:12.894705Z",
          "start_time": "2024-01-04T04:11:12.892046Z"
        },
        "id": "mT5u5JqV1Utr",
        "colab": {
          "base_uri": "https://localhost:8080/"
        },
        "outputId": "b52b8b8f-efb8-4de9-835d-58f1f6d42538"
      }
    },
    {
      "cell_type": "markdown",
      "source": [
        "## Exercise 3: Define a CloseApproach class\n",
        "\n",
        "Each NEO record comes with a list of `close_approach_data`, where each record in this list represents a single “close approach” to another orbiting body.\n",
        "* Develop a class named `CloseApproach` to represent a single close approach record.\n",
        "* State variables are\n",
        "\n",
        "        neo (refrence to related NEO object)\n",
        "        orbiting body (str)\n",
        "        approach date (datetime object!)\n",
        "        miss distance (float - choose units, document it, and be consistent!)\n",
        "        relative velocity (ditto)\n",
        "  \n",
        "Define a \"Factory\" class method to construct a `CloseApproach` object from one close approach data record (a dictionary object).   \n",
        "This method takes a `neo` object as input for the NEO to which the close approach data belongs.\n",
        "Remember to parse the date/time string into a datetime object."
      ],
      "metadata": {
        "id": "DNRs7ynOYwYk"
      }
    },
    {
      "cell_type": "code",
      "source": [
        "# Ex. 3 your code here\n",
        "\n",
        "class CloseApproach:\n",
        "\n",
        "    def __init__ (self, neo_obj, orbit_body, apr_date, miss_dist, rel_v):\n",
        "\n",
        "        self.neo_object = neo_obj\n",
        "        self.orbit_body = orbit_body\n",
        "        self.approach_date = apr_date\n",
        "        self.miss_distance_km = miss_dist   # km\n",
        "        self.relative_velocity_kps = rel_v  # km/s (kilometres per second)\n",
        "\n",
        "    def __str__ (self):\n",
        "\n",
        "        return (f'NEO {self.neo_obj.name}/{self.neo_obj.id}: '\n",
        "        f'Close approach with {self.orbit_body} on {self.approach_date} '\n",
        "        f'at distance {int(self.miss_distance_km)} km and '\n",
        "        f'relative velocity {self.relative_velocity_kps:.1f} km/s.')\n",
        "\n",
        "    def __repr__ (self):\n",
        "\n",
        "        return (f'neo = an {type(self.neo_obj).__name__}* object, '\n",
        "        f'orbit_body = {self.orbit_body}, approach_date = {self.approach_date}'\n",
        "        f'{type(self.approach_date)},\\nmiss_distance_km = {self.miss_distance_km}, '\n",
        "        f'relative_velocity_kps = {self.relative_velocity_kps}\\n'\n",
        "        f'*{type(self.neo_obj).__name__}: ({repr(self.neo_obj)})')\n",
        "\n",
        "    @classmethod\n",
        "    def from_record (cls, neo, apr_rec):\n",
        "\n",
        "        assert isinstance(neo, Asteroid)  # neo is an object of Asteroid class\n",
        "\n",
        "        orbit_body = apr_rec['orbiting_body']\n",
        "        apr_date   = datetime.datetime.strptime(apr_rec['close_approach_date'],'%Y-%m-%d').date()\n",
        "        miss_dist  = float(apr_rec['miss_distance']['kilometers'])\n",
        "        r_velo     = float(apr_rec['relative_velocity']['kilometers_per_second'])\n",
        "\n",
        "        return cls(neo, orbit_body, apr_date, miss_dist, r_velo)\n",
        "\n",
        "# record = get_neo('54339874')\n",
        "# first_close_approach = record['close_approach_data'][0]\n",
        "\n",
        "# four = CloseApproach.from_record(example)\n",
        "\n",
        "appppr = CloseApproach.from_record(example, neo['close_approach_data'][0])\n",
        "print(appppr)\n",
        "print(repr(appppr))\n",
        "\n",
        "# fez = CloseApproach(astro_bob, 'Mars', '2004-02-03', '5000', '3.5')\n",
        "\n",
        "# print(fez)\n",
        "# print(repr(fez))"
      ],
      "metadata": {
        "colab": {
          "base_uri": "https://localhost:8080/"
        },
        "id": "tiyXTDfnZAd0",
        "outputId": "4311fa8b-17f3-4918-a2b9-bacfc34543e4",
        "ExecuteTime": {
          "end_time": "2024-01-04T04:11:12.898030Z",
          "start_time": "2024-01-04T04:11:12.895465Z"
        }
      },
      "execution_count": null,
      "outputs": [
        {
          "output_type": "stream",
          "name": "stdout",
          "text": [
            "NEO 2023 BM1/54339874: Close approach with Earth on 1949-07-04 at distance 62790161 km and relative velocity 20.4 km/s.\n",
            "neo = an Asteroid* object, orbit_body = Earth, approach_date = 1949-07-04<class 'datetime.date'>,\n",
            "miss_distance_km = 62790161.51016609, relative_velocity_kps = 20.4193538659\n",
            "*Asteroid: (name = 2023 BM1, id = 54339874, diameter_m = 45.87146567725, is_hazardous = False)\n"
          ]
        }
      ]
    },
    {
      "cell_type": "markdown",
      "source": [
        "## Exercise 4: Add list of CloseApproach objects to the Asteroid\n",
        "\n",
        "Every `Asteroid` should have a list of “close approaches”.\n",
        "But there is a catch-22 here because we need the `Asteroid` to construct the `CloseApproach` objects.\n",
        "Add an instance variable to your Asteroid class with a default value of an empty list:\n",
        "\n",
        "    ...\n",
        "    close_approaches:list = []\n",
        "    ...\n",
        "      \n",
        "In `from_NEO` factory, use a list comprehension to build the list of `CloseApproach` objects for the Asteroid instance, and then set the instance's `close_approaches` variable before returning it.  \n",
        "Setting the value of an object's instance variables from outside the class is generally frowned upon - this is why we make the factory a method of the class itself!\n",
        "\n",
        "Now add a method to `Asteroid` to return the `nearest_miss` `CloseApproach` object for the asteroic:\n",
        "\n",
        "    def nearest_miss(self):\n",
        "        ...\n",
        "\n",
        "Extend your test code to demonstrate these new features."
      ],
      "metadata": {
        "collapsed": false,
        "id": "JqOty4hh1Utt"
      }
    },
    {
      "cell_type": "code",
      "execution_count": null,
      "outputs": [],
      "source": [
        "# Ex. 4 your code here"
      ],
      "metadata": {
        "ExecuteTime": {
          "end_time": "2024-01-04T04:11:12.899780Z",
          "start_time": "2024-01-04T04:11:12.897929Z"
        },
        "id": "rUguWcwS1Utu"
      }
    },
    {
      "cell_type": "markdown",
      "source": [
        "## Challenge - Take your skills to the next level...\n",
        "### Exercise 5: add one additional analysis\n",
        "\n",
        " With these data structures in place, we can now start answering all kinds of interesting questions about a single Asteroid or a set of Asteroids.  \n",
        "Here’s a couple ideas to try:\n",
        "\n",
        "* add a method to the Asteroid class, `closest_earth_approach`, that returns the CloseApproach object that represents the closest approach the Asteroid makes to Earth.\n",
        "\n",
        "* write a **function** named `most_dangerous_approach`, that takes a date range and returns a single “potentially hazardous” Asteroid object that makes the closest approach to Earth in within that range.  Your algorithm will ultimately need to:\n",
        "    * grab the list of NEO’s for the given date range;\n",
        "    * use a list comprehension to build the list of Asteroid objects for the NEO’s returned\n",
        "    * use a list comprehension to filter  potentially hazardous Asteroids only;\n",
        "    * use a list comprehension to map each Asteroid to its  closest_earth_approach\n",
        "    * apply Python’s min function to identify the Asteroid with the closest_earth_approach\n",
        "\n",
        "You may want to decompose some of these steps into smaller functions.\n",
        "* add a method to the Asteroid class, estimated_mass, that computes an estimate of the Asteroid’s mass based on its diameter.  This is a model – state your assumptions.\n",
        "* add a method to the CloseApproach class, impact_force,  that estimates the force of impact if the Asteroid hit the orbiting object.  Again, this is a model, state your assumptions."
      ],
      "metadata": {
        "collapsed": false,
        "id": "pv4JH0ac1Utu"
      }
    },
    {
      "cell_type": "code",
      "source": [
        "# Ex. 5 (challenge) your code here"
      ],
      "metadata": {
        "id": "Ds1YevErlzCe",
        "pycharm": {
          "name": "#%%\n"
        },
        "ExecuteTime": {
          "end_time": "2024-01-04T04:11:12.902837Z",
          "start_time": "2024-01-04T04:11:12.900180Z"
        }
      },
      "execution_count": null,
      "outputs": []
    }
  ]
}