{
  "cells": [
    {
      "cell_type": "markdown",
      "source": [
        "COMP 215 - LAB 4 (Graphs)\n",
        "-------------------------\n",
        "#### Name: David Lu\n",
        "#### Date: 8 Feb\n",
        "\n",
        "This lab exercise is an introduction to Graphs and Graph Analysis using [NetworkX](https://networkx.org/documentation/stable/).\n",
        "\n",
        "**New Python concepts**:\n",
        "  * **NetworkX** is an open-source package.  It provides a `Graph` object to represent a graph.\n",
        "  * Built-in `random` module provides algorithms for generating pseudo-random sequences\n",
        "  * [Generator expression](https://towardsdatascience.com/understanding-generator-expressions-in-python-fe0c4534619) - similar to a list comprehension, but faster and using much less memory!\n",
        "\n",
        "**Credits**:\n",
        "    Code examples based on [Think Complexity, 2nd edition](https://thinkcomplex.com).\n",
        "    Copyright 2016 Allen Downey, [MIT License](http://opensource.org/licenses/MIT)\n",
        "\n",
        "As usual, the first code cell simply imports all the modules we'll be using..."
      ],
      "metadata": {
        "collapsed": false,
        "pycharm": {
          "name": "#%% md\n"
        },
        "id": "aEXTlg3_Qb8Y"
      }
    },
    {
      "cell_type": "code",
      "execution_count": null,
      "outputs": [],
      "source": [
        "%matplotlib inline\n",
        "\n",
        "import math\n",
        "import random\n",
        "from timeit import timeit\n",
        "\n",
        "import matplotlib.pyplot as plt\n",
        "import networkx as nx"
      ],
      "metadata": {
        "pycharm": {
          "name": "#%%\n"
        },
        "ExecuteTime": {
          "end_time": "2024-01-02T02:05:15.521510Z",
          "start_time": "2024-01-02T02:05:15.485194Z"
        },
        "id": "skOWJW68Qb8b"
      }
    },
    {
      "cell_type": "markdown",
      "source": [
        "## ER Graph algorithms.\n",
        "\n",
        "from the textbook...\n",
        "> One of the more interesting \\[random graphs\\] is the Erdős-Rényi model, studied by Paul Erdős and Alfréd Rényi in the 1960s.\n",
        "\n",
        "> An Erdős-Rényi graph (ER graph) is characterized by two parameters: $n$ is the number of nodes and $p$ is the probability that there is an edge between any two nodes.\n",
        "\n",
        "> Erdős and Rényi studied the properties of these random graphs; one of their surprising results is the existence of abrupt changes in the properties of random graphs as random edges are added.\n",
        "\n",
        "In this lab we will work towards re-producing this famous computational experiment.\n",
        "\n",
        "We can start will all the code we developed in class.\n",
        "Review development of these algorithms in teh `week04-graphs` workbook."
      ],
      "metadata": {
        "collapsed": false,
        "id": "IbGQDaESQb8d"
      }
    },
    {
      "cell_type": "markdown",
      "source": [
        "We `seed` Python's built-in random number generator so we get the same sequence each time (to facilitate debugging and comprehension!)  Comment this out and re-run the notebook when you are ready to run experiments."
      ],
      "metadata": {
        "collapsed": false,
        "pycharm": {
          "name": "#%% md\n"
        },
        "id": "3EzQZlcBQb8e"
      }
    },
    {
      "cell_type": "code",
      "execution_count": null,
      "outputs": [],
      "source": [
        "random.seed(6) # Comment this out to run randomized experiments"
      ],
      "metadata": {
        "pycharm": {
          "name": "#%%\n"
        },
        "ExecuteTime": {
          "end_time": "2024-01-02T02:05:15.524052Z",
          "start_time": "2024-01-02T02:05:15.516067Z"
        },
        "id": "uQcKuuRKQb8f"
      }
    },
    {
      "cell_type": "code",
      "execution_count": null,
      "outputs": [],
      "source": [
        "def all_pairs(objects):\n",
        "    \"\"\" Return a generator with the complete set of distinct object pairs, as 2-tuples, from the given iterable of objects \"\"\"\n",
        "    return ((a, b) for i in range(1, len(objects)) for a,b in zip(objects, objects[i:]))\n",
        "\n",
        "# unit tests\n",
        "assert set( all_pairs(('w', 'x', 'y', 'z')) ) == {('w', 'x'), ('x', 'y'), ('y', 'z'), ('w', 'y'), ('x', 'z'), ('w', 'z')}"
      ],
      "metadata": {
        "pycharm": {
          "name": "#%%\n"
        },
        "ExecuteTime": {
          "end_time": "2024-01-02T02:05:15.537795Z",
          "start_time": "2024-01-02T02:05:15.527284Z"
        },
        "id": "Fk75_4b5Qb8g"
      }
    },
    {
      "cell_type": "code",
      "execution_count": null,
      "outputs": [],
      "source": [
        "def coin_toss(p=0.5):\n",
        "    \"\"\" Simulate flipping a biased \"coin\", where the probability of 'heads' is p.  Return True iff 'heads', False otherwise \"\"\"\n",
        "    return random.random() < p"
      ],
      "metadata": {
        "pycharm": {
          "name": "#%%\n"
        },
        "ExecuteTime": {
          "end_time": "2024-01-02T02:05:15.538072Z",
          "start_time": "2024-01-02T02:05:15.530410Z"
        },
        "id": "fi-5piYkQb8j"
      }
    },
    {
      "cell_type": "code",
      "execution_count": null,
      "outputs": [
        {
          "output_type": "execute_result",
          "data": {
            "text/plain": [
              "[('y', 'z'), ('w', 'y'), ('x', 'z')]"
            ]
          },
          "metadata": {},
          "execution_count": 67
        }
      ],
      "source": [
        "def random_pairs(objects, p=0.5):\n",
        "    \"\"\" Return a generator of random subset of distinct object pairs (2-tuples), each with a probability of `p` \"\"\"\n",
        "    return (pair for pair in all_pairs(objects) if coin_toss(p))  # \"flip a coin\" to determine whether a given pair is included.\n",
        "\n",
        "# Notice: no way to automate tests for random functions because they produce \"side-effects\" !!!\n",
        "list( random_pairs(('w', 'x', 'y', 'z'), p=0.5) )"
      ],
      "metadata": {
        "pycharm": {
          "name": "#%%\n"
        },
        "ExecuteTime": {
          "end_time": "2024-01-02T02:05:15.546417Z",
          "start_time": "2024-01-02T02:05:15.534324Z"
        },
        "colab": {
          "base_uri": "https://localhost:8080/"
        },
        "id": "lgMwwW0-Qb8l",
        "outputId": "5706985f-d446-4498-8cae-700605051a00"
      }
    },
    {
      "cell_type": "code",
      "execution_count": null,
      "outputs": [],
      "source": [
        "def make_random_graph(n, p):\n",
        "    \"\"\" Return an ER Graph with n nodes, where the probability of an edge between a pair of nodes in p \"\"\"\n",
        "    graph = nx.Graph()\n",
        "    labels = range(n)\n",
        "    graph.add_nodes_from(labels)\n",
        "    graph.add_edges_from(random_pairs(labels, p))\n",
        "    return graph"
      ],
      "metadata": {
        "pycharm": {
          "name": "#%%\n"
        },
        "ExecuteTime": {
          "end_time": "2024-01-02T02:05:15.548485Z",
          "start_time": "2024-01-02T02:05:15.539742Z"
        },
        "id": "nqPkd3MMQb8o"
      }
    },
    {
      "cell_type": "code",
      "execution_count": null,
      "outputs": [
        {
          "output_type": "display_data",
          "data": {
            "text/plain": [
              "<Figure size 640x480 with 1 Axes>"
            ],
            "image/png": "[encoded data removed]"
          },
          "metadata": {}
        }
      ],
      "source": [
        "N = 10\n",
        "p = 0.2\n",
        "\n",
        "random_graph = make_random_graph(N, p)\n",
        "\n",
        "nx.draw_circular(random_graph,\n",
        "                 node_color='#ff99dd',\n",
        "                 node_size=1000,\n",
        "                 with_labels=True)\n",
        "plt.gca().set(\n",
        "    title=f'Random Graph has {random_graph.number_of_nodes()} nodes and {random_graph.number_of_edges()} edges'\n",
        ")\n",
        "plt.show()"
      ],
      "metadata": {
        "pycharm": {
          "name": "#%%\n"
        },
        "ExecuteTime": {
          "end_time": "2024-01-02T02:05:15.637670Z",
          "start_time": "2024-01-02T02:05:15.553915Z"
        },
        "colab": {
          "base_uri": "https://localhost:8080/",
          "height": 539
        },
        "id": "JjpCFChGQb8q",
        "outputId": "17350d57-ca35-4e82-9d9e-d12bd8b4ce05"
      }
    },
    {
      "cell_type": "code",
      "execution_count": null,
      "outputs": [],
      "source": [
        "def reachable_nodes(graph, start):\n",
        "    \"\"\" return the set of nodes that are reachable from the given start node\"\"\"\n",
        "    seen = set()\n",
        "    stack = [start]\n",
        "    while stack:\n",
        "        node = stack.pop()\n",
        "        if node not in seen:\n",
        "            seen.add(node)\n",
        "            stack.extend(graph.neighbors(node))\n",
        "    return seen"
      ],
      "metadata": {
        "pycharm": {
          "name": "#%%\n"
        },
        "ExecuteTime": {
          "end_time": "2024-01-02T02:05:15.649083Z",
          "start_time": "2024-01-02T02:05:15.640811Z"
        },
        "id": "6Ir9kUlcQb8r"
      }
    },
    {
      "cell_type": "code",
      "execution_count": null,
      "outputs": [],
      "source": [
        "def is_connected(graph):\n",
        "    \"\"\" Return True if the graph is connected, false otherwise. \"\"\"\n",
        "    start = next(iter(graph))   # grab the first node in the graph.  This statement will need some further explanation.\n",
        "    reachable = reachable_nodes(graph, start)\n",
        "    return len(reachable) == len(graph)"
      ],
      "metadata": {
        "pycharm": {
          "name": "#%%\n"
        },
        "ExecuteTime": {
          "end_time": "2024-01-02T02:05:15.649430Z",
          "start_time": "2024-01-02T02:05:15.646354Z"
        },
        "id": "WdmxkkwuQb8s"
      }
    },
    {
      "cell_type": "code",
      "execution_count": null,
      "outputs": [
        {
          "output_type": "execute_result",
          "data": {
            "text/plain": [
              "False"
            ]
          },
          "metadata": {},
          "execution_count": 72
        }
      ],
      "source": [
        "is_connected(random_graph)"
      ],
      "metadata": {
        "pycharm": {
          "name": "#%%\n"
        },
        "ExecuteTime": {
          "end_time": "2024-01-02T02:05:15.777158Z",
          "start_time": "2024-01-02T02:05:15.650682Z"
        },
        "colab": {
          "base_uri": "https://localhost:8080/"
        },
        "id": "4MqHeAoBQb8s",
        "outputId": "b9b3b185-8660-4ce3-ea77-7e469997ec9a"
      }
    },
    {
      "cell_type": "markdown",
      "source": [
        "## Lab Exercises\n",
        "\n",
        "### Exercise 1\n",
        "Use `timeit` to run an experiment that times the `reachable_nodes` algorithm.\n",
        "Once you understand how `timeit` works, design a small experiment to time the `reachable_nodes` algorithm for a range of graph sizes (`n`)\n",
        "Plot the results of your experiment, where x = graph size (`n`) and y = avg. execution time in seconds"
      ],
      "metadata": {
        "collapsed": false,
        "pycharm": {
          "name": "#%% md\n"
        },
        "id": "0hP347nNQb8t"
      }
    },
    {
      "cell_type": "code",
      "execution_count": null,
      "outputs": [
        {
          "output_type": "execute_result",
          "data": {
            "text/plain": [
              "'Avg. time to execute: 0.005653987999721721 seconds'"
            ],
            "application/vnd.google.colaboratory.intrinsic+json": {
              "type": "string"
            }
          },
          "metadata": {},
          "execution_count": 73
        }
      ],
      "source": [
        "# here's an example of how to use timeit:\n",
        "N = 100\n",
        "p = 1\n",
        "g = make_random_graph(N, p)  # when p=1, this is a complete graph!\n",
        "seconds = timeit(lambda: reachable_nodes(g,  0),  number=3)\n",
        "f'Avg. time to execute: {seconds} seconds'"
      ],
      "metadata": {
        "pycharm": {
          "name": "#%%\n"
        },
        "ExecuteTime": {
          "end_time": "2024-01-02T02:05:15.778576Z",
          "start_time": "2024-01-02T02:05:15.743374Z"
        },
        "colab": {
          "base_uri": "https://localhost:8080/",
          "height": 35
        },
        "id": "648Q315iQb8v",
        "outputId": "6c8d29c9-88bf-4823-9b06-fb87035b8f0d"
      }
    },
    {
      "cell_type": "code",
      "execution_count": null,
      "outputs": [
        {
          "output_type": "display_data",
          "data": {
            "text/plain": [
              "<Figure size 640x480 with 1 Axes>"
            ],
            "image/png": "[encoded data removed]"
          },
          "metadata": {}
        }
      ],
      "source": [
        "# Ex. 1 your code here...\n",
        "\n",
        "num_runs = 50  # May take a while... try 50 if running slowly\n",
        "\n",
        "num_nodes = [i for i in range(100, 1100, 100)]  # a.k.a Graph size\n",
        "random_graphs = [make_random_graph(size, p) for size in num_nodes]\n",
        "exec_times_by_run = [0] * num_runs\n",
        "\n",
        "for i in range(num_runs):\n",
        "\n",
        "    exec_times_by_run[i] = [timeit(lambda: reachable_nodes(graph, 0), number = 1)\n",
        "                    for graph in random_graphs]\n",
        "\n",
        "times_by_num_nodes = zip(*exec_times_by_run)\n",
        "time = [sum(times)/num_runs for times in times_by_num_nodes]  # average time for each increment of nodes\n",
        "\n",
        "x_pad = 30\n",
        "y_pad = x_pad * (time[-1] - time[0])/900 * 6.4/4.8\n",
        "\n",
        "x_min = 100 - x_pad\n",
        "x_max = 1000 + x_pad\n",
        "y_min = time[0] - y_pad\n",
        "y_max = time[-1] + y_pad\n",
        "\n",
        "plt.plot(num_nodes, time, 'o-r', linewidth = 1)\n",
        "plt.axis((x_min, x_max, y_min, y_max))\n",
        "plt.xlabel('Graph Size (nodes)')\n",
        "plt.ylabel('Execution Time (s)')\n",
        "plt.show()"
      ],
      "metadata": {
        "ExecuteTime": {
          "end_time": "2024-01-02T02:05:15.778899Z",
          "start_time": "2024-01-02T02:05:15.743572Z"
        },
        "colab": {
          "base_uri": "https://localhost:8080/",
          "height": 449
        },
        "id": "NjgsFxboQb8w",
        "outputId": "7c8aadd7-5291-4564-fc9a-080e0c83df16"
      }
    },
    {
      "cell_type": "markdown",
      "source": [
        "### Exercise 2:\n",
        "What is the **Big-O time complexity** of the `reachable_nodes` algorithm?"
      ],
      "metadata": {
        "collapsed": false,
        "id": "N3KTE2nNQb8w"
      }
    },
    {
      "cell_type": "markdown",
      "source": [
        "#### Ex. 2 Your Answer: $O(n^2)$\n"
      ],
      "metadata": {
        "collapsed": false,
        "id": "j-KlvoV-Qb8w"
      }
    },
    {
      "cell_type": "markdown",
      "source": [
        "## Likelihood of connectivity\n",
        "\n",
        "We are ready to replicate Erdős and Rényi's computational experiment.\n",
        "In this experiment, we estimate the likelihood that a randomly-generated ER graph is connected.\n",
        "\n",
        "Like most computational experiments, we simple \"brute force\" the solution - create a big pile of ER graphs, and simply count up how many of them are connected.\n",
        "\n",
        "### Exercise 3:\n",
        "Write a function that runs one ER experiment for a given value of $n$ and $p$.\n",
        "\n",
        "The function generates `n_trials` (number of trials) graphs and returns the proportion of them that are connected."
      ],
      "metadata": {
        "collapsed": false,
        "pycharm": {
          "name": "#%% md\n"
        },
        "id": "ysFrd_xwQb8x"
      }
    },
    {
      "cell_type": "code",
      "execution_count": null,
      "outputs": [
        {
          "output_type": "execute_result",
          "data": {
            "text/plain": [
              "'Likelihood that an ER graph (n=30, p=0.1) is connected: 19.0%'"
            ],
            "application/vnd.google.colaboratory.intrinsic+json": {
              "type": "string"
            }
          },
          "metadata": {},
          "execution_count": 76
        }
      ],
      "source": [
        "def proportion_connected(n, p, n_trials=100):\n",
        "    \"\"\" Return the proportion of random ER Graphs (n, p) that are connected out of n trials. \"\"\"\n",
        "    # Ex. 3 your code here here...\n",
        "    # Step 1: make n_trials random graphs\n",
        "\n",
        "    n_random_graphs = [make_random_graph(n, p) for trial in range(n_trials)]\n",
        "\n",
        "    # Step 2: compute the proportion of those graphs that are connected\n",
        "\n",
        "    num_connected = 0\n",
        "\n",
        "    for graph in n_random_graphs:\n",
        "\n",
        "        if is_connected(graph):\n",
        "\n",
        "            num_connected += 1\n",
        "\n",
        "    return num_connected/n_trials\n",
        "\n",
        "\n",
        "n = 30\n",
        "p = 0.1\n",
        "p_connected = proportion_connected(n, p)*100  # percentage\n",
        "f'Likelihood that an ER graph (n={n}, p={p}) is connected: {p_connected:.1f}%'"
      ],
      "metadata": {
        "pycharm": {
          "name": "#%%\n"
        },
        "ExecuteTime": {
          "end_time": "2024-01-02T02:05:15.779256Z",
          "start_time": "2024-01-02T02:05:15.743633Z"
        },
        "colab": {
          "base_uri": "https://localhost:8080/",
          "height": 35
        },
        "id": "m37G910hQb8x",
        "outputId": "6a7fe16c-1586-4b3b-e143-a3ea5eb17e4b"
      }
    },
    {
      "cell_type": "markdown",
      "source": [
        "### Exercise 4:\n",
        "Use `timeit` to determine how much time each experimental run is consuming.  \n",
        "Plot the results of your experiment, where x = number of trials (`n_trials`) and y = avg. execution time in seconds"
      ],
      "metadata": {
        "collapsed": false,
        "id": "G-Glhh5hQb8x"
      }
    },
    {
      "cell_type": "code",
      "execution_count": null,
      "outputs": [
        {
          "output_type": "display_data",
          "data": {
            "text/plain": [
              "<Figure size 640x480 with 1 Axes>"
            ],
            "image/png": "[encoded data removed]"
          },
          "metadata": {}
        }
      ],
      "source": [
        "# Solution for Ex. 4 here...\n",
        "\n",
        "num_runs = 80  # More runs = more reliable average time result\n",
        "\n",
        "num_trials = [i for i in range(20, 220, 20)]\n",
        "exec_times = [0] * num_runs\n",
        "\n",
        "for i in range(num_runs):\n",
        "\n",
        "    exec_times[i] = [timeit(lambda: proportion_connected(n, p, n_trials = num), number = 1)\n",
        "                    for num in num_trials]\n",
        "\n",
        "times_by_num_trials = zip(*exec_times)  # Repackage list\n",
        "time = [sum(times)/num_runs for times in times_by_num_trials]\n",
        "\n",
        "x_pad = 10\n",
        "y_pad = x_pad * (time[-1] - time[0])/180 * 6.4/4.8\n",
        "\n",
        "x_min = 20 - x_pad\n",
        "x_max = 200 + x_pad\n",
        "y_min = time[0] - y_pad\n",
        "y_max = time[-1] + y_pad\n",
        "\n",
        "# y_max = avg_exec_time[-1] + avg_exec_time[0]\n",
        "\n",
        "plt.plot(num_trials, time, 'o-r', linewidth = 1)\n",
        "plt.axis((x_min, x_max, y_min, y_max))\n",
        "plt.xlabel('Number of Trials')\n",
        "plt.ylabel('Execution Time (s)')\n",
        "plt.show()"
      ],
      "metadata": {
        "ExecuteTime": {
          "end_time": "2024-01-02T02:05:15.779544Z",
          "start_time": "2024-01-02T02:05:15.743701Z"
        },
        "colab": {
          "base_uri": "https://localhost:8080/",
          "height": 449
        },
        "id": "cUIK9CUJQb8y",
        "outputId": "54edaa54-136b-428f-decb-33fa18deec4a"
      }
    },
    {
      "cell_type": "markdown",
      "source": [
        "### Exercise 5:\n",
        "Our experimental results are more accurate (i.e., show less variation between runs) when we use large values for `n` and `n_trials`.  But we've seen that large values for these 2 inputs can cause serious performance issues.\n",
        "\n",
        "What are reasonable value for `n` and `n_trials` to use in the experimental setup below?"
      ],
      "metadata": {
        "collapsed": false,
        "id": "hrxufA-iQb80"
      }
    },
    {
      "cell_type": "markdown",
      "source": [
        "#### Your Answer:\n"
      ],
      "metadata": {
        "collapsed": false,
        "id": "uMTLsUkZQb81"
      }
    },
    {
      "cell_type": "markdown",
      "source": [
        "## Critical Value of $p$\n",
        "\n",
        "Near a \"critical value\" of $p$, the likelihood of a random graph being connected rapidly changes from near 0 to near 1.\n",
        "Erdős and Rényi predict the critical value should be:  $ln(n) / n$\n",
        "For example..."
      ],
      "metadata": {
        "collapsed": false,
        "pycharm": {
          "name": "#%% md\n"
        },
        "id": "N2vjxb1JQb81"
      }
    },
    {
      "cell_type": "code",
      "execution_count": null,
      "outputs": [
        {
          "output_type": "execute_result",
          "data": {
            "text/plain": [
              "'Erdős and Rényi predict the critical value of p for graphs of size 30 = 0.113'"
            ],
            "application/vnd.google.colaboratory.intrinsic+json": {
              "type": "string"
            }
          },
          "metadata": {},
          "execution_count": 78
        }
      ],
      "source": [
        "n = 30\n",
        "f'Erdős and Rényi predict the critical value of p for graphs of size {n} = {math.log(n) / n:0.3f}'"
      ],
      "metadata": {
        "pycharm": {
          "name": "#%%\n"
        },
        "ExecuteTime": {
          "end_time": "2024-01-02T02:05:15.779891Z",
          "start_time": "2024-01-02T02:05:15.743750Z"
        },
        "id": "Z_cuc2m2Qb82",
        "outputId": "4d3dfdb6-2458-4765-9fd8-87966fc43064",
        "colab": {
          "base_uri": "https://localhost:8080/",
          "height": 35
        }
      }
    },
    {
      "cell_type": "markdown",
      "source": [
        "### Exercise 6:\n",
        "Develop an experiment using `proportion_connected` that runs trials over a range of values for $p$.\n",
        "The goal of this experiment is to identify the \"critical value\" of $p$ for graphs of size $n$.\n",
        "\n",
        "You can conduct this experiment by hand by manually running the code above with different input values and record your results in Ex. 7, ... or\n",
        "\n",
        "#### Challenge - Take your skills to the next level...\n",
        "Develop the experimental setup in code to run all trials over a range of values for $p$ and then plot the results of your experiment, where x = value of `p` and y = proportion connection in the experimental run"
      ],
      "metadata": {
        "collapsed": false,
        "pycharm": {
          "name": "#%% md\n"
        },
        "id": "E6vSVlkTQb83"
      }
    },
    {
      "cell_type": "code",
      "execution_count": null,
      "outputs": [
        {
          "output_type": "stream",
          "name": "stdout",
          "text": [
            "critical value: 0.11337324605540518\n",
            "Edge Probabilities\n",
            "['0.043', '0.000', '0.057', '0.000', '0.071', '0.000', '0.085', '0.000', '0.099', '0.000', '0.113', '0.000', '0.127', '0.000', '0.141', '0.000', '0.155', '0.000', '0.169', '0.000', '0.183']\n",
            "Connected Graph Probabilities\n",
            "['0.000', '0.000', '0.002', '0.000', '0.021', '0.000', '0.090', '0.000', '0.220', '0.000', '0.391', '0.000', '0.553', '0.000', '0.704', '0.000', '0.794', '0.000', '0.865', '0.000', '0.916']\n",
            "Curvature of Connected Graph Probabilities\n",
            "['2: 0.0170', '4: 0.0497', '6: 0.0620', '8: 0.0403', '10: 0.0090', '12: 0.0117', '14: 0.0603', '16: 0.0187', '18: 0.0203']\n",
            "Curvature of Connected Graph Probabilities, Sorted\n",
            "['6: 0.0620', '14: 0.0603', '4: 0.0497', '8: 0.0403', '18: 0.0203', '16: 0.0187', '2: 0.0170', '12: 0.0117', '10: 0.0090']\n",
            "Location: 6, Increment: 0.085\n",
            "0.078, 0.092\n",
            "0.054, 0.159\n",
            "Location: 14, Increment: 0.141\n",
            "0.134, 0.148\n",
            "0.638, 0.763\n",
            "New Edge Probabilities\n",
            "['0.043', '0.000', '0.057', '0.000', '0.071', '0.078', '0.085', '0.092', '0.099', '0.000', '0.113', '0.000', '0.127', '0.134', '0.141', '0.148', '0.155', '0.000', '0.169', '0.000', '0.183']\n",
            "New Connected Graph Probabilities\n",
            "['0.000', '0.000', '0.002', '0.000', '0.021', '0.054', '0.090', '0.159', '0.220', '0.000', '0.391', '0.000', '0.553', '0.638', '0.704', '0.763', '0.794', '0.000', '0.865', '0.000', '0.916']\n",
            "Finalised Edge Probabilities\n",
            "['0.043', '0.057', '0.071', '0.078', '0.085', '0.092', '0.099', '0.113', '0.127', '0.134', '0.141', '0.148', '0.155', '0.169', '0.183']\n",
            "Finalised Connected Graph Probabilities\n",
            "['0.000', '0.002', '0.021', '0.054', '0.090', '0.159', '0.220', '0.391', '0.553', '0.638', '0.704', '0.763', '0.794', '0.865', '0.916']\n"
          ]
        },
        {
          "output_type": "display_data",
          "data": {
            "text/plain": [
              "<Figure size 640x480 with 1 Axes>"
            ],
            "image/png": "[encoded data removed]"
          },
          "metadata": {}
        }
      ],
      "source": [
        "# Ex. 6 (challenge) your code here...\n",
        "\n",
        "num_nodes = 30\n",
        "num_trials = 3000  # 3000 / 1000 / 300\n",
        "\n",
        "critical_value = math.log(num_nodes) / num_nodes  # value to be verified\n",
        "print(f'critical value: {critical_value}')\n",
        "\n",
        "# Convoluted Two-Step Process\n",
        "\n",
        "num_increment_initial = 11\n",
        "num_increment_supplemental = 4\n",
        "\n",
        "reserve = 2 * num_increment_initial - 1\n",
        "\n",
        "increments = [0] * reserve\n",
        "\n",
        "for index in range(reserve):\n",
        "\n",
        "    halfway = math.floor(reserve / 2)\n",
        "\n",
        "    if index % 2 == 0:\n",
        "\n",
        "        if index == halfway:\n",
        "\n",
        "            increments[index] = critical_value\n",
        "\n",
        "        else:\n",
        "\n",
        "            increments[index] = critical_value - 0.007 * (halfway - index)\n",
        "\n",
        "connectivity = [proportion_connected(num_nodes, inc, num_trials) for inc in increments]\n",
        "\n",
        "print('Edge Probabilities')\n",
        "print([f'{inc:.3f}' for inc in increments])\n",
        "print('Connected Graph Probabilities')\n",
        "print([f'{conn:.3f}' for conn in connectivity])\n",
        "\n",
        "curvature = [0] * (num_increment_initial - 2)\n",
        "\n",
        "for i in range(2, 19, 2):\n",
        "\n",
        "    last_step = connectivity[i] - connectivity[i-2]\n",
        "    next_step = connectivity[i+2] - connectivity[i]\n",
        "\n",
        "    delta = next_step - last_step\n",
        "\n",
        "    curvature[int(i/2)-1] = (i, abs(delta))\n",
        "\n",
        "print('Curvature of Connected Graph Probabilities')\n",
        "print([f'{curv[0]}: {curv[1]:.4f}' for curv in curvature])\n",
        "\n",
        "curvature.sort(key = lambda x: x[1], reverse = True)\n",
        "\n",
        "print('Curvature of Connected Graph Probabilities, Sorted')\n",
        "print([f'{curv[0]}: {curv[1]:.4f}' for curv in curvature])\n",
        "\n",
        "num_pairs_supplemental = int(num_increment_supplemental / 2)\n",
        "locations_to_insert = [curv[0] for curv in curvature[:num_pairs_supplemental]]\n",
        "\n",
        "for loc in locations_to_insert:\n",
        "\n",
        "    print(f'Location: {loc}, Increment: {increments[loc]:.3f}')\n",
        "\n",
        "    supplemental_low = (increments[loc-2] + increments[loc]) / 2\n",
        "    supplemental_high = (increments[loc] + increments[loc+2]) / 2\n",
        "\n",
        "    print(f'{supplemental_low:.3f}, {supplemental_high:.3f}')\n",
        "\n",
        "    supp_conn_low = proportion_connected(num_nodes, supplemental_low, num_trials)\n",
        "    supp_conn_high = proportion_connected(num_nodes, supplemental_high, num_trials)\n",
        "\n",
        "    print(f'{supp_conn_low:.3f}, {supp_conn_high:.3f}')\n",
        "\n",
        "    increments[loc-1] = supplemental_low; increments[loc+1] = supplemental_high\n",
        "\n",
        "    if connectivity[loc-1] == 0:\n",
        "\n",
        "        connectivity[loc-1] = supp_conn_low\n",
        "\n",
        "    else:\n",
        "\n",
        "        connectivity[loc-1] = (connectivity[loc-1] + supp_conn_low) / 2\n",
        "\n",
        "        print(f'Average results: {loc-1}, {connectivity[loc-1]}')\n",
        "\n",
        "    if connectivity[loc+1] == 0:\n",
        "\n",
        "         connectivity[loc+1] = supp_conn_high\n",
        "\n",
        "    else:\n",
        "\n",
        "        connectivity[loc+1] = (connectivity[loc+1] + supp_conn_high) / 2\n",
        "\n",
        "        print(f'Average results: {loc+1}, {connectivity[loc+1]}')\n",
        "\n",
        "\n",
        "print('New Edge Probabilities')\n",
        "print([f'{inc:.3f}' for inc in increments])\n",
        "print('New Connected Graph Probabilities')\n",
        "print([f'{conn:.3f}' for conn in connectivity])\n",
        "\n",
        "assert min(increments) >= 0\n",
        "\n",
        "# Filter out those zeros which initially filled the spaces allocated for\n",
        "# potential supplementary increments. Take care to not filter out legitimate\n",
        "# connectivity probability data just because it is zero.\n",
        "\n",
        "zero_filter = [inc == 0 for inc in increments]\n",
        "finalised_increments = [inc for inc, is_zero in zip(increments, zero_filter) if is_zero == False]\n",
        "finalised_connectivity = [conn for conn, is_zero in zip(connectivity, zero_filter) if is_zero == False]\n",
        "\n",
        "print('Finalised Edge Probabilities')\n",
        "print([f'{inc:.3f}' for inc in finalised_increments])\n",
        "print('Finalised Connected Graph Probabilities')\n",
        "print([f'{conn:.3f}' for conn in finalised_connectivity])\n",
        "\n",
        "plt.plot(finalised_increments, finalised_connectivity, 'o-r', linewidth = 1)\n",
        "# plt.axis((x_min, x_max, y_min, y_max))\n",
        "plt.xlabel('Probability of an Edge Between Two Nodes')\n",
        "plt.ylabel('Probability that the Graph is Connected')\n",
        "plt.show()"
      ],
      "metadata": {
        "pycharm": {
          "name": "#%%\n"
        },
        "ExecuteTime": {
          "end_time": "2024-01-02T02:06:39.600304Z",
          "start_time": "2024-01-02T02:06:39.587196Z"
        },
        "id": "8U389Qw1Qb84",
        "outputId": "2041a053-6cde-43d4-f5e4-2567536fe6d4",
        "colab": {
          "base_uri": "https://localhost:8080/",
          "height": 860
        }
      }
    },
    {
      "cell_type": "markdown",
      "source": [
        "### Exercise 7:\n",
        "Does your experiment confirm or refute Erdős and Rényi's results?\n",
        "\n",
        "What real-world applications / implications might this understanding of graph connectivity have?"
      ],
      "metadata": {
        "collapsed": false,
        "id": "py_HswWyQb84"
      }
    },
    {
      "cell_type": "markdown",
      "source": [
        "#### Ex. 7 Your Answer:\n",
        "\n",
        "The experiment confirms Erdos and Renyi's prediction that the chance of a random graph being connected changes most rapidly near a critical edge probability of $\\ln(n)/n$. This is demonstrated by the slope of the line in this experiment, which can be seen to reach a maximum near the critical edge probability: $$ p_\\text{critical} = \\frac{\\ln{30}}{30} \\approx 0.113 $$\n",
        "\n",
        "There are many possible applications of this understanding of graph connectivity. For example, it can inform decisions about the level of redundency that should be built into electrical, communications, or transportation networks, taking into consideration the reliability of the connection between two neighbouring points of interest. Although, I'm not sure whether the Erdos-Renyi model would be best suited for such real-life applications.\n"
      ],
      "metadata": {
        "collapsed": false,
        "id": "-44EwB9AQb85"
      }
    },
    {
      "cell_type": "code",
      "source": [],
      "metadata": {
        "id": "0OU3Qvs_ztqQ"
      },
      "execution_count": null,
      "outputs": []
    }
  ],
  "metadata": {
    "kernelspec": {
      "display_name": "Python 3",
      "language": "python",
      "name": "python3"
    },
    "language_info": {
      "codemirror_mode": {
        "name": "ipython",
        "version": 2
      },
      "file_extension": ".py",
      "mimetype": "text/x-python",
      "name": "python",
      "nbconvert_exporter": "python",
      "pygments_lexer": "ipython2",
      "version": "2.7.6"
    },
    "colab": {
      "provenance": []
    }
  },
  "nbformat": 4,
  "nbformat_minor": 0
}