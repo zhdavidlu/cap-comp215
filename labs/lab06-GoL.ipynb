{
  "cells": [
    {
      "cell_type": "markdown",
      "metadata": {
        "collapsed": true,
        "pycharm": {
          "name": "#%% md\n"
        },
        "id": "Na4iBAJtBFAE"
      },
      "source": [
        "COMP 215 - LAB 6 (Game of Life)\n",
        "-----------------------------------------------\n",
        "#### Name: David Lu\n",
        "#### Date: 1 Mar - 2 Mar\n",
        "\n",
        "This lab exercise is an introduction to [Conway's Game of Life](https://en.wikipedia.org/wiki/Conway%27s_Game_of_Life) discovered and studied by [John Conway](https://en.wikipedia.org/wiki/John_Horton_Conway).\n",
        "\n",
        "**New Python concepts**:\n",
        "   * 2D numpy [array](https://numpy.org/doc/stable/reference/generated/numpy.array.html)\n",
        "   * basic [array operations](https://www.pluralsight.com/guides/overview-basic-numpy-operations)\n",
        "\n",
        "**New Computation concepts**:\n",
        "   * [2D sliding dot product](https://docs.scipy.org/doc/scipy/reference/generated/scipy.signal.correlate2d.html)\n",
        "   * [Animation](https://matplotlib.org/stable/api/animation_api.html)\n",
        "\n",
        "**Credits**:\n",
        "    Code examples based on [Think Complexity, 2nd edition](https://thinkcomplex.com).\n",
        "    Copyright 2016 Allen Downey, [MIT License](http://opensource.org/licenses/MIT)\n",
        "\n",
        "As usual, the first code cell simply imports all the modules we'll be using..."
      ]
    },
    {
      "cell_type": "code",
      "execution_count": 1,
      "outputs": [],
      "source": [
        "import time\n",
        "import matplotlib\n",
        "import matplotlib.pyplot as plt\n",
        "from matplotlib import animation\n",
        "import numpy as np\n",
        "from scipy.signal import correlate2d\n",
        "\n",
        "%matplotlib inline\n",
        "# Configure matplotlib's animation library to work in the browser.\n",
        "matplotlib.rc('animation', html='jshtml')"
      ],
      "metadata": {
        "pycharm": {
          "name": "#%%\n"
        },
        "ExecuteTime": {
          "end_time": "2024-01-06T00:59:30.713969Z",
          "start_time": "2024-01-06T00:59:29.426998Z"
        },
        "id": "MAPMD0AEBFAG"
      }
    },
    {
      "cell_type": "markdown",
      "source": [
        "A reusable function for plotting 2D numpy.array as an image..."
      ],
      "metadata": {
        "collapsed": false,
        "pycharm": {
          "name": "#%% md\n"
        },
        "id": "x8Wk30xgBFAG"
      }
    },
    {
      "cell_type": "code",
      "execution_count": 2,
      "outputs": [],
      "source": [
        "def plot_2d_array(array, axes=None, title='', cmap='Blues', **options):\n",
        "    \"\"\"\n",
        "    Plot the 2D array as an image on the given axes  1's will be dark blue, 0's will be light blue.\n",
        "\n",
        "    :param axes: the axes to plot on, or None to use the `plt.gca()` (current axes)\n",
        "    :param options: keyword arguments passed directly to `plt.imshow()`\n",
        "           see https://matplotlib.org/stable/api/_as_gen/matplotlib.axes.Axes.imshow.html\n",
        "    \"\"\"\n",
        "    axes = axes or plt.gca()  # If not axes are provided, draw on current axes\n",
        "    axes.set_title(title)\n",
        "    # Turn off axes labels and tick marks\n",
        "    axes.tick_params(axis='both', which='both', bottom=False, top=False, left=False, right=False ,\n",
        "                     labelbottom=False, labeltop=False, labelleft=False, labelright=False,)\n",
        "    # Defaults for displaying a \"matrix\" with hard-pixel boundaries and (0,0) at top-left\n",
        "    options = {**dict(interpolation='nearest', origin='upper'), **options}\n",
        "    axes.imshow(array, cmap=cmap, **options)"
      ],
      "metadata": {
        "pycharm": {
          "name": "#%%\n"
        },
        "ExecuteTime": {
          "end_time": "2024-01-06T00:59:30.719129Z",
          "start_time": "2024-01-06T00:59:30.716251Z"
        },
        "id": "86Zk5pc0BFAG"
      }
    },
    {
      "cell_type": "markdown",
      "source": [
        "## Life Fundamentals\n",
        "Both the textbook and our week6 notebooks develop some fundamental operations for simulating the Game of Life.\n",
        "Some of the code from `week6.ipynb` is reproduced here without deriving all the ideas - review `week6.ipynb` notebook for the full story.\n",
        "The sliding dot product algorithm in `step` is implemented with [scipy.signal.correlate2d](https://docs.scipy.org/doc/scipy/reference/generated/scipy.signal.correlate2d.html).  It's behaviour is identical to the derivation in `week6.ipynb`.\n",
        "\n",
        "#### Notes\n",
        "* we use `correlate2d(state, kernel, mode='same', boundary='wrap')` to pad state matrix with 1 value around perimeter from the opposite side of the matrix.\n",
        "* since the rule is a 1D `np.array`, we use \"vector indexing\" here to set the 'live' state transitions:  `next_state[[3, 12, 13]] = 1`"
      ],
      "metadata": {
        "collapsed": false,
        "pycharm": {
          "name": "#%% md\n"
        },
        "id": "mJzxCxewBFAG"
      }
    },
    {
      "cell_type": "code",
      "execution_count": 3,
      "outputs": [],
      "source": [
        "class Life2D:\n",
        "    \"\"\" An basic 2D Cellular Automata that implementes Conway's Game of Life \"\"\"\n",
        "    kernel = np.array([[1, 1, 1],\n",
        "                       [1, 10, 1],\n",
        "                       [1, 1, 1]])\n",
        "\n",
        "    next_state = np.zeros(19, dtype=np.uint8)\n",
        "    next_state[[3, 12, 13]] = 1\n",
        "\n",
        "    def __init__(self, n_rows, n_cols=None):\n",
        "        \"\"\" Construct a n_rows x n_cols 2D CA \"\"\"\n",
        "        n_cols = n_cols or n_rows  # i.e., n_cols if n_cols is not None and n_cols != 0 else n_rows\n",
        "        self.state = np.zeros(shape=(n_rows, n_cols), dtype=np.uint8)\n",
        "\n",
        "    def step(self):\n",
        "        \"\"\"Executes one time step. \"\"\"\n",
        "        transitions = correlate2d(self.state, self.kernel, mode='same', boundary='wrap')\n",
        "        self.state = self.next_state[transitions]\n",
        "\n",
        "    def draw(self, axes=None, step=''):\n",
        "        axes = axes or plt.gca()   # use pyplot's current axes if none are provided.\n",
        "        plot_2d_array(self.state, axes, title=f\"Conway's Game of Life {step}\")\n",
        "\n",
        "# Some comments for myself:\n",
        "#\n",
        "# <n_cols or n_rows>  ->  short-circuit evaluation: returns the first \"truthy\" value encountered,\n",
        "#                         otherwise, if both values are \"falsy\", return the last value in the expression\n",
        "# <n_cols and n_rows> ->  short-circuit evaluation: returns the first \"falsy\" value encountered,\n",
        "#                         otherwise, if both values for \"truthy\", return the last value in the expression\n",
        "#\n",
        "# interface: np.zeros(<shape>, <dtype>)  -->  <shape> can be int (for single-dimension arrays), or tuples (for multidimensional arrays)\n",
        "#                                        -->  <dtype> is optional, default is numpy.float64\n",
        "#\n",
        "# the correlation step encodes the neighbourhood environment of each cell as a single number in the range (0-8 and 10-18);\n",
        "# this number is then referenced in the lookup table, to determine how each cell will evolve in the coming step"
      ],
      "metadata": {
        "pycharm": {
          "name": "#%%\n"
        },
        "ExecuteTime": {
          "end_time": "2024-01-06T00:59:30.722229Z",
          "start_time": "2024-01-06T00:59:30.719978Z"
        },
        "id": "AbSmobqzBFAG"
      }
    },
    {
      "cell_type": "markdown",
      "source": [
        "### Visualizing a 2D simulation model\n",
        "For 1D CAs, we could use a 2D image to visualize the CA progression over time.\n",
        "For 2D CAs, we could try using time as a 3rd axis to generate a 3D visualziation, but without VR, its hard to explore a 3D visualization.\n",
        "Instead, we'll use a simple 2D [\"stop motion\" animation](https://en.wikipedia.org/wiki/Animation).\n",
        "Here is a generic class that animates any 2D model that provides step() and draw() methods, and uses matplotlib to render its state.\n",
        "\n",
        "See [Matplotlib animation in Jupyter](https://www.allendowney.com/blog/2019/07/25/matplotlib-animation-in-jupyter/) by our textbook author for a discussion of the pros and cons of various animation techniques in jupyter notebooks."
      ],
      "metadata": {
        "collapsed": false,
        "pycharm": {
          "name": "#%% md\n"
        },
        "id": "EQvyPkpNBFAG"
      }
    },
    {
      "cell_type": "code",
      "execution_count": 4,
      "outputs": [],
      "source": [
        "class Animation2D:\n",
        "    \"\"\"\n",
        "      Animates any 2D model with a step() method and a draw() method, using matplotlib\n",
        "      model.step() should take no parameters - just step the model forward one step.\n",
        "      model.draw() should take 2 parameters, the matpltolib axes to draw on and an integer step number\n",
        "    \"\"\"\n",
        "\n",
        "    def __init__(self, model, frames=50, figsize=(8, 8)):\n",
        "        \"\"\"\n",
        "        :param model: the simulation object to animate, with step() and draw(axes, step) methods\n",
        "        :param frames: number of animation frames to generate\n",
        "        \"\"\"\n",
        "        self.model = model\n",
        "        self.frames = frames\n",
        "        self.fig, self.ax = plt.subplots(figsize=figsize)\n",
        "\n",
        "    def animation_step(self, step):\n",
        "        \"\"\" Step the model forward and draw the plot \"\"\"\n",
        "        if step > 0:\n",
        "            self.model.step()\n",
        "        self.model.draw(self.ax, step=step)\n",
        "\n",
        "    def show(self):\n",
        "        \"\"\" return the matplotlib animation object, ready for display \"\"\"\n",
        "        anim = animation.FuncAnimation(self.fig, self.animation_step, frames=self.frames)\n",
        "        plt.close()  # this ensures the last frame is not shown as a separate plot\n",
        "        return anim\n",
        "\n",
        "    def animate(self, interval=None):\n",
        "        \"\"\" Animate the model simulation directly in the notebook display block \"\"\"\n",
        "        from IPython.display import clear_output\n",
        "        try:\n",
        "            for i in range(self.frames):\n",
        "                clear_output(wait=True)  # clear the IPython display\n",
        "                self.ax.clear()          # clear old image from the axes (fixes a performance issue)\n",
        "                plt.figure(self.fig)     # add the figure back to pyplot ** sigh **\n",
        "                self.animation_step(i)\n",
        "                plt.show()               # show the current animation frame (pyplot then closes and throws away figure ** sigh **)\n",
        "                if interval:\n",
        "                    time.sleep(interval)\n",
        "        except KeyboardInterrupt:\n",
        "            pass"
      ],
      "metadata": {
        "pycharm": {
          "name": "#%%\n"
        },
        "ExecuteTime": {
          "end_time": "2024-01-06T00:59:30.727443Z",
          "start_time": "2024-01-06T00:59:30.724530Z"
        },
        "id": "BZ38YqUrBFAI"
      }
    },
    {
      "cell_type": "markdown",
      "source": [
        "### Sample usage\n",
        "Animate a single glider..."
      ],
      "metadata": {
        "collapsed": false,
        "pycharm": {
          "name": "#%% md\n"
        },
        "id": "h3kkmZS9BFAI"
      }
    },
    {
      "cell_type": "code",
      "execution_count": 7,
      "outputs": [
        {
          "output_type": "display_data",
          "data": {
            "text/plain": [
              "<Figure size 800x800 with 1 Axes>"
            ],
            "image/png": "[encoded data removed]"
          },
          "metadata": {}
        }
      ],
      "source": [
        "size = 10\n",
        "life = Life2D(size)\n",
        "glider = np.array([[0, 1, 0], [0, 0, 1], [1, 1, 1]], dtype=np.uint8)\n",
        "life.state[1:4, 2:5] = glider             # bad idea to alter an objects state directly!  We'll improve it in Ex. 3\n",
        "gol = Animation2D(life, frames=20)\n",
        "gol.animate()\n",
        "\n",
        "# Some explanations for myself:\n",
        "#\n",
        "# The <n_rows> of the 2D cellular automaton is set to 10.\n",
        "# since no <n_cols> was provided, it is set to the same value as <n_rows>  -->  also 10\n",
        "#\n",
        "# Because the <life2D> class doesn't yet have a method to modify the <state> from its initial configuration of all zeros,\n",
        "# we're forced (for now) to modify this state directly by assigning the shape of the glider to a slice/subset of the state array\n",
        "#\n",
        "# In line 4, we pass the <life> object to the <Animate2D> constructor as the model to animate\n",
        "# Line 5 calls the <Animate2D.animate()>. An altnernative would be to call <Animate2D.show()>, which is quite cool."
      ],
      "metadata": {
        "pycharm": {
          "name": "#%%\n"
        },
        "id": "RXfN7xWLBFAI",
        "outputId": "c81f9a8e-59da-47a3-a710-86857e0a218e",
        "colab": {
          "base_uri": "https://localhost:8080/",
          "height": 675
        }
      }
    },
    {
      "cell_type": "markdown",
      "source": [
        "## Exercise 1:  Enumerate all Elementary 2D CA's\n",
        "Write a line or 2 of code to compute and print the answer for each question:\n",
        "* how many unique states are there for a 3x3 (9 cell) neighbourhood?\n",
        "* how many unique “rules” are there? (where a rule provides a mapping for each possible neighbourhood state to the output for the centre cell)\n",
        "* how does this number compare, for example, to the [number of atoms in the observable universe?](https://en.wikipedia.org/wiki/Observable_universe#Matter_content%E2%80%94number_of_atoms)"
      ],
      "metadata": {
        "collapsed": false,
        "id": "9-J2qn04BFAI"
      }
    },
    {
      "cell_type": "code",
      "execution_count": 8,
      "outputs": [
        {
          "output_type": "stream",
          "name": "stdout",
          "text": [
            "There are 512 unique states for a 3x3 neighbourhood, and to these, 1.34e+154 unique rules can be applied.\n",
            "Compared to the estimated 1e+80 atoms in the observable universe, this number is, in consideration, quite astronomical.\n"
          ]
        }
      ],
      "source": [
        "# Ex. 1 your code here...\n",
        "\n",
        "# To answer these questions, we must first define what it means for a state to be unique.\n",
        "# For example, it is possible to consider isomorphic shapes to be the same. To be even more extreme,\n",
        "# variations with the same number of \"living\" neighbours can all be considered the same macrostate.\n",
        "# But, if we were to count simple permutations, the results are as follows\n",
        "\n",
        "unique_states = 2**9             # each cell may either have a value of 0 or 1\n",
        "unique_rules = 2**unique_states  # each state may lead the next centre to have a value of 0 or 1\n",
        "\n",
        "message = (f'There are {unique_states} unique states for a 3x3 neighbourhood, '\n",
        "           f'and to these, {unique_rules:.2e} unique rules can be applied.\\n'\n",
        "           f'Compared to the estimated {10**80:.0e} atoms in the observable universe, '\n",
        "           f'this number is, in consideration, quite astronomical.')\n",
        "print(message)"
      ],
      "metadata": {
        "pycharm": {
          "name": "#%%\n"
        },
        "ExecuteTime": {
          "end_time": "2024-01-06T00:59:32.380370Z",
          "start_time": "2024-01-06T00:59:32.378662Z"
        },
        "id": "BcbRwgr7BFAI",
        "outputId": "bab611cd-2b17-43b2-9236-dedf0568b1f8",
        "colab": {
          "base_uri": "https://localhost:8080/"
        }
      }
    },
    {
      "cell_type": "markdown",
      "source": [
        "Using what you learned above, concisely answer each question below (point form)\n",
        "1. would it be a reasonable goal to conduct an experiment like Wolfram’s for 2D CA’s?\n",
        "2. propose a numbering scheme for these rules, analogous to Wolfram’s rule numbers\n",
        "3. how might we go about determining which rule number corresponds to Conway’s GoL?\n",
        "   (I’m not asking for the number, but rather for a method you could use to find it.)"
      ],
      "metadata": {
        "collapsed": false,
        "pycharm": {
          "name": "#%% md\n"
        },
        "id": "PXH7FM9QBFAI"
      }
    },
    {
      "cell_type": "markdown",
      "source": [
        "#### Ex 1. Your Answers\n",
        "\n",
        "1. In a limited way, yes, if we can find some patterns and divide some of the rules into interesting classes\n",
        "2. Well, to be totally analogous to Wolfram numbers, we could do just that\n",
        "3. . first, modify those last two answers"
      ],
      "metadata": {
        "collapsed": false,
        "id": "TpBrlMkxBFAJ"
      }
    },
    {
      "cell_type": "markdown",
      "source": [
        "## Exercise 2: random_life\n",
        "Extend the Life2D class defined above to allow the game to be initialized with a random start state.\n",
        "The liklihood of any given cell being initialized to \"alive\" is given by $p$.\n",
        "*Hint*: we did this exact exercise for a 1D array in previous lab"
      ],
      "metadata": {
        "collapsed": false,
        "pycharm": {
          "name": "#%% md\n"
        },
        "id": "XQvS1AJbBFAJ"
      }
    },
    {
      "cell_type": "code",
      "execution_count": 19,
      "outputs": [],
      "source": [
        "# Ex. 2 experimental setup\n",
        "\n",
        "class BetterLife2D(Life2D):\n",
        "    \"\"\" Improvements on the basic Life2D model \"\"\"\n",
        "\n",
        "    def randomize_state(self, p):\n",
        "        \"\"\" Randomize the state of this GoL, where probability of a \"live\" cell is p \"\"\"\n",
        "        # Ex. 2 your code here...\n",
        "\n",
        "\n",
        "def random_life(n_rows, n_cols=None, p=0.5):\n",
        "    \"\"\" Return a Life2D object of given dimensions with initial randomized state where \"live\" cells have probability p \"\"\"\n",
        "    # Ex. 2 your code here...\n",
        "\n",
        "\n",
        "\n",
        "# A few notes to self:\n",
        "#\n",
        "# <BetterLife2D> is a derived class of the base class <Life2D>,\n",
        "# it extends the functionality of <Life2D> by introducing a <random_state()> method\n",
        "#\n",
        "# Remember, the original interface was <n_rows>, optional: <n_cols>\n",
        "#\n",
        "# Current thinking: generate a floating-point number between 0 and 1, with uniform distribution, and check whether the number is less than p\n",
        "#\n",
        "# One dimensional version, from Lab 5:\n",
        "#\n",
        "# def random_array (n, p):\n",
        "\n",
        "#     rng = np.random.default_rng()\n",
        "#     arr = np.fromiter((rng.random() < p for i in range(n)), dtype = np.uint8)\n",
        "\n",
        "#     return arr"
      ],
      "metadata": {
        "pycharm": {
          "name": "#%%\n"
        },
        "ExecuteTime": {
          "end_time": "2024-01-06T00:59:32.383669Z",
          "start_time": "2024-01-06T00:59:32.381110Z"
        },
        "id": "8jO7qWTaBFAJ"
      }
    },
    {
      "cell_type": "markdown",
      "source": [
        "### Experiment\n",
        "Run a small experiment to see if you can identify any relationship between $p$, the probability of a live cell in the initial grid, and the time it takes for the GoL pattern to stabilize."
      ],
      "metadata": {
        "collapsed": false,
        "pycharm": {
          "name": "#%% md\n"
        },
        "id": "UzcEXblRBFAJ"
      }
    },
    {
      "cell_type": "code",
      "execution_count": null,
      "outputs": [],
      "source": [
        "# Ex. 2 write code for your experiment here..."
      ],
      "metadata": {
        "pycharm": {
          "name": "#%%\n"
        },
        "ExecuteTime": {
          "end_time": "2024-01-06T00:59:32.386367Z",
          "start_time": "2024-01-06T00:59:32.383563Z"
        },
        "id": "zHsjySxFBFAK"
      }
    },
    {
      "cell_type": "markdown",
      "source": [
        "## Exercise 3: Load Patterns\n",
        "People have discovered many interesting [\"patterns\"](https://conwaylife.com/wiki/Category:Patterns) that exhibit various types of behaviours.\n",
        "A \"pattern\" is just a small 2D array.\n",
        " 1. Develop a function that returns a 2D array containing the patterns defined by a single string; and\n",
        " 2. Add a `load_pattern(x, y, pattern)` method to your `BetterLife2D` class above to insert patterns into the Life state array\n",
        "    *Tip*: you can [assign an entire 2D slice of a numpy array](https://www.nickmccullum.com/advanced-python/numpy-indexing-assignment/) in a single assignment statement!   See example in the Sample Usage block above. Try it!"
      ],
      "metadata": {
        "collapsed": false,
        "pycharm": {
          "name": "#%% md\n"
        },
        "id": "Eit51elCBFAK"
      }
    },
    {
      "cell_type": "code",
      "execution_count": null,
      "outputs": [],
      "source": [
        "# Here's an example of the glider pattern from above defined in a single string...\n",
        "glider_pattern = \\\n",
        "    \"\"\"\n",
        "    010\n",
        "    001\n",
        "    111\n",
        "    \"\"\"\n",
        "\n",
        "# Ex. 3 your code here..."
      ],
      "metadata": {
        "pycharm": {
          "name": "#%%\n"
        },
        "ExecuteTime": {
          "end_time": "2024-01-06T00:59:32.388974Z",
          "start_time": "2024-01-06T00:59:32.385536Z"
        },
        "id": "r7uGrX-lBFAK"
      }
    },
    {
      "cell_type": "markdown",
      "source": [
        "### Define some patterns\n",
        "User your nifty new function to define a few common, interesting patterns (e.g., from the book or other sources)"
      ],
      "metadata": {
        "collapsed": false,
        "pycharm": {
          "name": "#%% md\n"
        },
        "id": "pumxWrXLBFAK"
      }
    },
    {
      "cell_type": "code",
      "execution_count": null,
      "outputs": [],
      "source": [
        "# Ex. 3 define your patterns here..."
      ],
      "metadata": {
        "pycharm": {
          "name": "#%%\n"
        },
        "ExecuteTime": {
          "end_time": "2024-01-06T00:59:32.389471Z",
          "start_time": "2024-01-06T00:59:32.387944Z"
        },
        "id": "w7L1R30pBFAK"
      }
    },
    {
      "cell_type": "markdown",
      "source": [
        "### Experiment\n",
        "Load up a BetterLife2D object with some patterns that interact in some interesting way.\n",
        "What can we learn from studying interactions like this?   Is anything here applicable to the real world?"
      ],
      "metadata": {
        "collapsed": false,
        "pycharm": {
          "name": "#%% md\n"
        },
        "id": "Pbgd7e6oBFAK"
      }
    },
    {
      "cell_type": "code",
      "execution_count": null,
      "outputs": [],
      "source": [
        "# Ex. 3 code for your experiment here"
      ],
      "metadata": {
        "pycharm": {
          "name": "#%%\n"
        },
        "ExecuteTime": {
          "end_time": "2024-01-06T00:59:32.392005Z",
          "start_time": "2024-01-06T00:59:32.389848Z"
        },
        "id": "zisz43gFBFAL"
      }
    }
  ],
  "metadata": {
    "kernelspec": {
      "display_name": "Python 3",
      "language": "python",
      "name": "python3"
    },
    "language_info": {
      "codemirror_mode": {
        "name": "ipython",
        "version": 2
      },
      "file_extension": ".py",
      "mimetype": "text/x-python",
      "name": "python",
      "nbconvert_exporter": "python",
      "pygments_lexer": "ipython2",
      "version": "2.7.6"
    },
    "colab": {
      "provenance": []
    }
  },
  "nbformat": 4,
  "nbformat_minor": 0
}