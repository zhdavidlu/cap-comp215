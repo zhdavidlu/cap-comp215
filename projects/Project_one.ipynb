{
  "cells": [
    {
      "cell_type": "markdown",
      "metadata": {
        "id": "2jDrVehPARUV"
      },
      "source": [
        "### **Project One: Small Language Model (Predictive Text)**\n",
        "Use an http API to populate data to a complex data structure\n",
        "- develop a small computational experiment\n",
        "- write a well-organized, self-contained, easy-to-read computational notebook\n",
        "- present a visualization of the experimental results in graphical form\n",
        "\n",
        "21-26 February, David Lu"
      ]
    },
    {
      "cell_type": "code",
      "execution_count": 2,
      "metadata": {
        "id": "Q8ifKLgNAJtG"
      },
      "outputs": [],
      "source": [
        "import re\n",
        "import random\n",
        "import requests\n",
        "import networkx as nx\n",
        "import collections"
      ]
    },
    {
      "cell_type": "markdown",
      "metadata": {
        "id": "mGFYd4nN1vBZ"
      },
      "source": [
        "#### **Part One: Input**\n",
        "\n",
        "The input text for this model is the preface to Livy's *The Early History of Rome (Books 1-5)*, as translated by Aubrey de Sélincourt. The text has been uploaded to the project's Github directory for easy access, and simple Markdown formatting has been applied for improved readability.\n",
        "\n",
        "Getting started, the  full Markdown text is retrieved with help from the `requests` library.\n",
        "Next, the text is separated into its constituent words, which are the basic unit of manipulation of the model.\n"
      ]
    },
    {
      "cell_type": "code",
      "execution_count": 3,
      "metadata": {
        "colab": {
          "base_uri": "https://localhost:8080/"
        },
        "id": "ckdKxM5aLgx1",
        "outputId": "80119d83-8f2b-49fc-d99e-14e13ecaa933"
      },
      "outputs": [
        {
          "output_type": "execute_result",
          "data": {
            "text/plain": [
              "['The', 'task', 'of', 'writing', 'a', 'history', 'of', 'our', 'nation']"
            ]
          },
          "metadata": {},
          "execution_count": 3
        }
      ],
      "source": [
        "address = 'https://raw.githubusercontent.com/zhdavidlu/cap-comp215/main/projects/livy.md'\n",
        "\n",
        "response = requests.get(address)\n",
        "text = response.text  # full markdown text\n",
        "\n",
        "remove = re.sub(r'.*\\n\\n', '', text, count = 1)  # remove the heading\n",
        "replace = re.sub(r'\\n', ' ', remove)             # replace line breaks with spaces\n",
        "\n",
        "words = replace.split()  # split the text into a list of words\n",
        "words[:9]  # show the first nine words, for a sense of what the list looks like"
      ]
    },
    {
      "cell_type": "markdown",
      "metadata": {
        "id": "QzBc7WfEFwCc"
      },
      "source": [
        "#### **Part Two: Restructuring**\n",
        "\n",
        "The prediction mechanism of the model is extremely simple: provided a pair of consecutive words from the input, the prediction is taken to be the next word to appear after the pair. Importantly, if the pair appears more than once in the input, then the prediction will be a random selection from the various words to follow the pair throughout the text.\n",
        "\n",
        "To make this selection in a timely manner, the word or words that follow any given pair needs to be retrieved efficiently. This is achieved, as was suggested, by a combination of the `defaultdict` sub-class and the \"sliding-window algorithm\". Each unique pair of consecutive words is placed within the dictionary `dictionnaire` as a key, and the word or list of words which follow are their corresponding values."
      ]
    },
    {
      "cell_type": "code",
      "execution_count": 4,
      "metadata": {
        "colab": {
          "base_uri": "https://localhost:8080/"
        },
        "id": "kY8Sz4SjM7X7",
        "outputId": "67c1ccad-ed71-4622-ac0a-33a8ccea460d"
      },
      "outputs": [
        {
          "output_type": "execute_result",
          "data": {
            "text/plain": [
              "[(('The', 'task'), ['of']),\n",
              " (('task', 'of'), ['writing']),\n",
              " (('of', 'writing'), ['a'])]"
            ]
          },
          "metadata": {},
          "execution_count": 4
        }
      ],
      "source": [
        "dictionnaire = collections.defaultdict(list)\n",
        "triplets = [((words[i], words[i+1]), words[i+2]) for i in range(len(words)-2)]  # \"sliding window algorithm\"\n",
        "\n",
        "for k,v in triplets:\n",
        "    dictionnaire[k].append(v)\n",
        "\n",
        "list(dictionnaire.items())[:3]  # the first three entries in the dictionary"
      ]
    },
    {
      "cell_type": "markdown",
      "metadata": {
        "id": "e-7c8278GHt3"
      },
      "source": [
        "#### **Part Three: Making Predictions**\n",
        "\n",
        "A relatively straightforward implementation of the aforementioned prediction mechanism."
      ]
    },
    {
      "cell_type": "code",
      "execution_count": null,
      "metadata": {
        "colab": {
          "background_save": true
        },
        "id": "SYNI5lRyddxt"
      },
      "outputs": [],
      "source": [
        "# Helper functions\n",
        "\n",
        "# Picks the first two words of a random sentence from the\n",
        "# text to be the starting point for the model\n",
        "\n",
        "def random_start (words):\n",
        "\n",
        "    while True:\n",
        "        random_number = random.randrange(0, len(words)-1)\n",
        "        if words[random_number][-1] == '.': break\n",
        "\n",
        "    return (words[random_number+1], words[random_number+2])\n",
        "\n",
        "\n",
        "# Breaks up very long lines of text into multiple shorter ones\n",
        "# to improve readability (default width ~ 65 chars)\n",
        "\n",
        "def break_line (line, linewidth = 65):\n",
        "\n",
        "    if len(line) < (5/4)*linewidth:\n",
        "        return line\n",
        "\n",
        "    else:\n",
        "        formatted_line = []\n",
        "        former = 0\n",
        "        additional_characters = 0\n",
        "\n",
        "        for index in range(linewidth, len(line), linewidth):\n",
        "            index += additional_characters\n",
        "\n",
        "            while index < len(line) and line[index] != ' ':\n",
        "                index += 1\n",
        "                additional_characters += 1\n",
        "\n",
        "            formatted_line.append(line[former:index] + '\\n')\n",
        "            former = index + 1\n",
        "\n",
        "        formatted_line.append(line[former:])\n",
        "\n",
        "    return ''.join(formatted_line)\n",
        "\n",
        "# test_lnstr = ''.join(['0 '] * int(65 * (5/8)+1))\n",
        "# print(break_line(test_lnstr))"
      ]
    },
    {
      "cell_type": "code",
      "execution_count": null,
      "metadata": {
        "colab": {
          "background_save": true
        },
        "id": "ysy0JRjYb7yl"
      },
      "outputs": [],
      "source": [
        "# Top-level / User-oriented function 1\n",
        "def write_words (words, table, num_words = 12):\n",
        "\n",
        "    words_in = random_start(words)\n",
        "    word_sequence = list(words_in)\n",
        "\n",
        "    for i in range(num_words):\n",
        "        word_out = random.choice(dictionnaire[words_in])\n",
        "        words_in = (words_in[1], word_out)\n",
        "        word_sequence.append(word_out)\n",
        "\n",
        "    sentence = ' '.join(word_sequence)\n",
        "    if sentence[-1] not in [';', '.']:  # add some nice ellipsis if the word\n",
        "        sentence = f'{sentence}...'     # sequence ends midway through a sentence\n",
        "\n",
        "    return sentence\n",
        "\n",
        "# Top-level / User-oriented function 2\n",
        "def write_sentences (words, table, num_sentences = 3):\n",
        "\n",
        "    sentence_count = 0\n",
        "    words_in = random_start(words)\n",
        "    word_sequence = list(words_in)\n",
        "\n",
        "    while sentence_count < num_sentences:\n",
        "        word_out = random.choice(dictionnaire[words_in])\n",
        "        words_in = (words_in[1], word_out)\n",
        "        word_sequence.append(word_out)\n",
        "\n",
        "        if word_out[-1] == '.':\n",
        "            sentence_count += 1\n",
        "\n",
        "    return break_line(' '.join(word_sequence))\n",
        "\n",
        "# Merge into one function"
      ]
    },
    {
      "cell_type": "code",
      "execution_count": null,
      "metadata": {
        "colab": {
          "background_save": true
        },
        "id": "nc9Hbh8fGZ-s",
        "outputId": "f2f1680e-7005-4d59-b9e2-7d9a3c693f56"
      },
      "outputs": [
        {
          "name": "stdout",
          "output_type": "stream",
          "text": [
            "Turnus and his people, in their anxiety for the future, then looked for help...\n",
            "\n",
            "Hitherto, however, he had been exposed was left high and dry by the\n",
            "insult of having to step down in favour of a greater future. He went\n",
            "first to Macedonia, then in his escape from the vices of avarice\n",
            "and luxury; nowhere have thrift and plain living been for so long\n",
            "held in such esteem. Indeed, poverty, with us, went hand in hand\n",
            "with contentment.\n"
          ]
        }
      ],
      "source": [
        "some_words = write_words(words, dictionnaire)\n",
        "some_sentences = write_sentences(words, dictionnaire)\n",
        "\n",
        "print(some_words)\n",
        "print()\n",
        "print(some_sentences)"
      ]
    },
    {
      "cell_type": "code",
      "execution_count": null,
      "metadata": {
        "id": "SwltBSBh1EZk"
      },
      "outputs": [],
      "source": [
        "# helpful functions and their interfaces:\n",
        "# ## re.search(<pattern>, <string>)\n",
        "# ## random.choices(<list>)\n",
        "\n",
        "\n",
        "# more ideas\n",
        "# ## a weighted networkx graph showing the connections between the most common words (eg. pairs with more than three successors)\n",
        "# ## user-oriented function that lets the user choose between sequences with a certain number of words or sentences\n",
        "# #### for sentences, also choose whether sentences should be short, long, or intermediate"
      ]
    },
    {
      "cell_type": "markdown",
      "metadata": {
        "id": "ZDCKKGRpEmY-"
      },
      "source": [
        "#### **Visualisations**"
      ]
    },
    {
      "cell_type": "code",
      "execution_count": null,
      "metadata": {
        "id": "XfcNlpM9ErlS"
      },
      "outputs": [],
      "source": [
        "# Visualisation function from a past project,\n",
        "# imported here for style references, needs to be adapted\n",
        "\n",
        "# def draw_shortest_paths(G, T, node_positions, edge_weights):\n",
        "\n",
        "#     # T_complement = nx.difference(G, T)\n",
        "\n",
        "#     node_labels = {node: f'${node}$' for node in G.nodes()}\n",
        "\n",
        "#     node_style = {'node_size': 600, 'node_color': 'tab:blue', 'alpha': 0.9}\n",
        "#     label_style = {'labels': node_labels, 'font_color': 'white'}  # font_size\n",
        "\n",
        "#     nx.draw_networkx_nodes(G, node_positions, **node_style)\n",
        "#     nx.draw_networkx_labels(G, node_positions, **label_style)\n",
        "#     nx.draw_networkx_edge_labels(G, node_positions, edge_weights)\n",
        "\n",
        "#     return 0\n",
        "\n",
        "# Try a tree-like representation of a short word sequence\n",
        "# Possibility at each \"stage\" depends on pair (previous two states)"
      ]
    }
  ],
  "metadata": {
    "colab": {
      "provenance": [],
      "authorship_tag": "ABX9TyPrNXnuclbDQKPRFm306QAT"
    },
    "kernelspec": {
      "display_name": "Python 3",
      "language": "python",
      "name": "python3"
    },
    "language_info": {
      "codemirror_mode": {
       "name": "ipython",
       "version": 2
      },
    "file_extension": ".py",
    "mimetype": "text/x-python",
    "name": "python",
    "nbconvert_exporter": "python",
    "pygments_lexer": "ipython2",
    "version": "2.7.6"
    }
  },
  "nbformat": 4,
  "nbformat_minor": 0
}
