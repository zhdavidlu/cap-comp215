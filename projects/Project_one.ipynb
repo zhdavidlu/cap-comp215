{
  "cells": [
    {
      "cell_type": "markdown",
      "metadata": {
        "id": "2jDrVehPARUV"
      },
      "source": [
        "### **Project One: Small Language Model (Predictive Text)**\n",
        "Use an http API to populate data to a complex data structure\n",
        "- develop a small computational experiment\n",
        "- write a well-organized, self-contained, easy-to-read computational notebook\n",
        "- present a visualization of the experimental results in graphical form\n",
        "\n",
        "21-26 February, David Lu"
      ]
    },
    {
      "cell_type": "code",
      "execution_count": null,
      "metadata": {
        "id": "Q8ifKLgNAJtG"
      },
      "outputs": [],
      "source": [
        "import re\n",
        "import random\n",
        "import requests\n",
        "import networkx as nx\n",
        "import collections\n",
        "import matplotlib.pyplot as plt"
      ]
    },
    {
      "cell_type": "markdown",
      "metadata": {
        "id": "mGFYd4nN1vBZ"
      },
      "source": [
        "#### **Part One: Input**\n",
        "\n",
        "The input text for this model is the preface to Livy's *The Early History of Rome (Books 1-5)*, as translated by Aubrey de Sélincourt. The text has been uploaded to the project's Github directory for easy access, and simple Markdown formatting has been applied for improved readability.\n",
        "\n",
        "Getting started, the  full Markdown text is retrieved with help from the `requests` library.\n",
        "Next, the text is separated into its constituent words, which are the basic unit of manipulation of the model.\n"
      ]
    },
    {
      "cell_type": "code",
      "execution_count": null,
      "metadata": {
        "colab": {
          "base_uri": "https://localhost:8080/"
        },
        "id": "ckdKxM5aLgx1",
        "outputId": "e8036a88-10ee-4e61-cf91-a45c1aa4212b"
      },
      "outputs": [
        {
          "output_type": "execute_result",
          "data": {
            "text/plain": [
              "['The', 'task', 'of', 'writing', 'a', 'history', 'of', 'our', 'nation']"
            ]
          },
          "metadata": {},
          "execution_count": 26
        }
      ],
      "source": [
        "address = 'https://raw.githubusercontent.com/zhdavidlu/cap-comp215/main/projects/livy.md'\n",
        "\n",
        "response = requests.get(address)\n",
        "text = response.text  # full markdown text\n",
        "\n",
        "remove = re.sub(r'.*\\n\\n', '', text, count = 1)  # remove the heading\n",
        "replace = re.sub(r'\\n', ' ', remove)             # replace line breaks with spaces\n",
        "\n",
        "words = replace.split()  # split the text into a list of words\n",
        "words[:9]  # show the first nine words, for a sense of what the list looks like"
      ]
    },
    {
      "cell_type": "markdown",
      "metadata": {
        "id": "QzBc7WfEFwCc"
      },
      "source": [
        "#### **Part Two: Restructuring**\n",
        "\n",
        "The prediction mechanism of the model is extremely simple: provided a pair of consecutive words from the input, the prediction is taken to be the next word to appear after the pair. Importantly, if the pair appears more than once in the input, then the prediction will be a random selection from the various words to follow the pair throughout the text.\n",
        "\n",
        "To make this selection in a timely manner, the word or words that follow any given pair needs to be retrieved efficiently. This is achieved, as was suggested, by a combination of the `defaultdict` sub-class and the \"sliding-window algorithm\". Each unique pair of consecutive words is placed within the dictionary `dictionnaire` as a key, and the word or list of words which follow are their corresponding values."
      ]
    },
    {
      "cell_type": "code",
      "execution_count": null,
      "metadata": {
        "colab": {
          "base_uri": "https://localhost:8080/"
        },
        "id": "kY8Sz4SjM7X7",
        "outputId": "156d6253-63df-427a-ae73-b0a22462378c"
      },
      "outputs": [
        {
          "output_type": "execute_result",
          "data": {
            "text/plain": [
              "[(('The', 'task'), ['of']),\n",
              " (('task', 'of'), ['writing']),\n",
              " (('of', 'writing'), ['a'])]"
            ]
          },
          "metadata": {},
          "execution_count": 27
        }
      ],
      "source": [
        "dictionnaire = collections.defaultdict(list)\n",
        "triplets = [((words[i], words[i+1]), words[i+2]) for i in range(len(words)-2)]  # \"sliding window algorithm\"\n",
        "\n",
        "for k,v in triplets:\n",
        "    dictionnaire[k].append(v)\n",
        "\n",
        "list(dictionnaire.items())[:3]  # the first three entries in the dictionary"
      ]
    },
    {
      "cell_type": "markdown",
      "metadata": {
        "id": "e-7c8278GHt3"
      },
      "source": [
        "#### **Part Three: Making Predictions**\n",
        "\n",
        "A relatively straightforward implementation of the aforementioned prediction mechanism."
      ]
    },
    {
      "cell_type": "code",
      "execution_count": null,
      "metadata": {
        "id": "SYNI5lRyddxt"
      },
      "outputs": [],
      "source": [
        "# Helper functions\n",
        "\n",
        "# Picks the first two words of a random sentence from the\n",
        "# text to be the starting point for the model\n",
        "\n",
        "def random_start (words):\n",
        "\n",
        "    while True:\n",
        "        random_number = random.randrange(0, len(words)-1)\n",
        "        if words[random_number][-1] == '.': break\n",
        "\n",
        "    return (words[random_number+1], words[random_number+2])\n",
        "\n",
        "\n",
        "# Appends an ellipsis to sequences that end midway\n",
        "# through a sentence to indicate incompletion\n",
        "\n",
        "def append_ellipsis (line):\n",
        "\n",
        "    if not line.endswith((';', '.')):\n",
        "        line = f'{line}...'\n",
        "\n",
        "    return line\n",
        "\n",
        "\n",
        "# Breaks up very long lines of text into multiple shorter ones\n",
        "# to improve readability (default width ~ 65 chars)\n",
        "\n",
        "def break_line (line, linewidth = 65):\n",
        "\n",
        "    if len(line) < (5/4)*linewidth:\n",
        "        return line\n",
        "\n",
        "    else:\n",
        "        formatted_line = []\n",
        "        former = 0\n",
        "        additional_characters = 0\n",
        "\n",
        "        for index in range(linewidth, len(line), linewidth):\n",
        "            index += additional_characters\n",
        "\n",
        "            while index < len(line) and line[index] != ' ':\n",
        "                index += 1\n",
        "                additional_characters += 1\n",
        "\n",
        "            formatted_line.append(line[former:index] + '\\n')\n",
        "            former = index + 1\n",
        "\n",
        "        formatted_line.append(line[former:])\n",
        "\n",
        "    return ''.join(formatted_line)"
      ]
    },
    {
      "cell_type": "code",
      "execution_count": null,
      "metadata": {
        "id": "ysy0JRjYb7yl"
      },
      "outputs": [],
      "source": [
        "# Top-level / User-oriented function 1\n",
        "def write_words (words, table, num_words = 12):\n",
        "\n",
        "    words_in = random_start(words)\n",
        "    word_sequence = list(words_in)\n",
        "\n",
        "    for i in range(num_words):\n",
        "        word_out = random.choice(table[words_in])\n",
        "        words_in = (words_in[1], word_out)\n",
        "        word_sequence.append(word_out)\n",
        "\n",
        "    return append_ellipsis(' '.join(word_sequence))\n",
        "\n",
        "# Top-level / User-oriented function 2\n",
        "def write_sentences (words, table, num_sentences = 2):\n",
        "\n",
        "    sentence_count = 0\n",
        "    words_in = random_start(words)\n",
        "    word_sequence = list(words_in)\n",
        "\n",
        "    while sentence_count < num_sentences:\n",
        "        word_out = random.choice(table[words_in])\n",
        "        words_in = (words_in[1], word_out)\n",
        "        word_sequence.append(word_out)\n",
        "\n",
        "        if word_out[-1] == '.':\n",
        "            sentence_count += 1\n",
        "\n",
        "    return break_line(' '.join(word_sequence))"
      ]
    },
    {
      "cell_type": "code",
      "execution_count": null,
      "metadata": {
        "colab": {
          "base_uri": "https://localhost:8080/"
        },
        "id": "nc9Hbh8fGZ-s",
        "outputId": "eb6e209a-02fb-4a27-de0b-578dd4fea3bd"
      },
      "outputs": [
        {
          "output_type": "stream",
          "name": "stdout",
          "text": [
            "I shall find antiquity a rewarding study, if only because, while I am aware...\n",
            "\n",
            "I shall pass unnoticed amongst them; if so, I must comfort myself\n",
            "with the Eneti, who had been driven out of Paphlagonia and, having\n",
            "lost their leader Latinus. Turnus and his brother were in the river.\n",
            "\n"
          ]
        }
      ],
      "source": [
        "some_words = write_words(words, dictionnaire)\n",
        "some_sentences = write_sentences(words, dictionnaire)\n",
        "\n",
        "print(some_words)\n",
        "print()\n",
        "print(some_sentences)"
      ]
    },
    {
      "cell_type": "markdown",
      "metadata": {
        "id": "ZDCKKGRpEmY-"
      },
      "source": [
        "#### **Addendum: Visualisation**\n",
        "\n",
        "It must be first stated that the layout of the nodes into positions familiar to us was made possible by the `hierarchy_pos` function, written by Joel Miller for the [*EoN*](https://github.com/springer-math/Mathematics-of-Epidemics-on-Networks/tree/master) module, the accompaniment to *Mathematics of Epidemics on Networks,* by Kiss, Miller, and Simon. Out of an excess of laziness, for I have no experience installing packages into Colab, its defintion  has been reproduced below from [source](https://epidemicsonnetworks.readthedocs.io/en/latest/_modules/EoN/auxiliary.html#hierarchy_pos) without change.\n",
        "\n",
        "The visualisation here takes the form of a simple directed graph representation of the prediction mechanism in action. Each word is represented by a node, and two nodes are connected by a directed edge if one follows the other and its parent in the text.\n",
        "\n",
        "\\begin{align*}\n",
        "    b \\Rightarrow c \\quad\\text{if} \\quad &\\text{there exists}\\:\\: (a,b,c) \\:\\:\\text{in the model input} \\\\\n",
        "    &\\text{where parent}(b) = a\n",
        "\\end{align*}"
      ]
    },
    {
      "cell_type": "code",
      "execution_count": null,
      "metadata": {
        "id": "SwltBSBh1EZk"
      },
      "outputs": [],
      "source": [
        "def hierarchy_pos(G, root=None, width=1., vert_gap = 0.2, vert_loc = 0, leaf_vs_root_factor = 0.5):\n",
        "\n",
        "    '''\n",
        "    If the graph is a tree this will return the positions to plot this in a\n",
        "    hierarchical layout.\n",
        "\n",
        "    Based on Joel's answer at https://stackoverflow.com/a/29597209/2966723,\n",
        "    but with some modifications.\n",
        "\n",
        "    We include this because it may be useful for plotting transmission trees,\n",
        "    and there is currently no networkx equivalent (though it may be coming soon).\n",
        "\n",
        "    There are two basic approaches we think of to allocate the horizontal\n",
        "    location of a node.\n",
        "\n",
        "    - Top down: we allocate horizontal space to a node.  Then its ``k``\n",
        "      descendants split up that horizontal space equally.  This tends to result\n",
        "      in overlapping nodes when some have many descendants.\n",
        "    - Bottom up: we allocate horizontal space to each leaf node.  A node at a\n",
        "      higher level gets the entire space allocated to its descendant leaves.\n",
        "      Based on this, leaf nodes at higher levels get the same space as leaf\n",
        "      nodes very deep in the tree.\n",
        "\n",
        "    We use use both of these approaches simultaneously with ``leaf_vs_root_factor``\n",
        "    determining how much of the horizontal space is based on the bottom up\n",
        "    or top down approaches.  ``0`` gives pure bottom up, while 1 gives pure top\n",
        "    down.\n",
        "\n",
        "\n",
        "    :Arguments:\n",
        "\n",
        "    **G** the graph (must be a tree)\n",
        "\n",
        "    **root** the root node of the tree\n",
        "    - if the tree is directed and this is not given, the root will be found and used\n",
        "    - if the tree is directed and this is given, then the positions will be\n",
        "      just for the descendants of this node.\n",
        "    - if the tree is undirected and not given, then a random choice will be used.\n",
        "\n",
        "    **width** horizontal space allocated for this branch - avoids overlap with other branches\n",
        "\n",
        "    **vert_gap** gap between levels of hierarchy\n",
        "\n",
        "    **vert_loc** vertical location of root\n",
        "\n",
        "    **leaf_vs_root_factor**\n",
        "\n",
        "    xcenter: horizontal location of root\n",
        "    '''\n",
        "    if not nx.is_tree(G):\n",
        "        raise TypeError('cannot use hierarchy_pos on a graph that is not a tree')\n",
        "\n",
        "    if root is None:\n",
        "        if isinstance(G, nx.DiGraph):\n",
        "            root = next(iter(nx.topological_sort(G)))  #allows back compatibility with nx version 1.11\n",
        "        else:\n",
        "            root = random.choice(list(G.nodes))\n",
        "\n",
        "    def _hierarchy_pos(G, root, leftmost, width, leafdx = 0.2, vert_gap = 0.2, vert_loc = 0,\n",
        "                    xcenter = 0.5, rootpos = None,\n",
        "                    leafpos = None, parent = None):\n",
        "        '''\n",
        "        see hierarchy_pos docstring for most arguments\n",
        "\n",
        "        pos: a dict saying where all nodes go if they have been assigned\n",
        "        parent: parent of this branch. - only affects it if non-directed\n",
        "\n",
        "        '''\n",
        "\n",
        "        if rootpos is None:\n",
        "            rootpos = {root:(xcenter,vert_loc)}\n",
        "        else:\n",
        "            rootpos[root] = (xcenter, vert_loc)\n",
        "        if leafpos is None:\n",
        "            leafpos = {}\n",
        "        children = list(G.neighbors(root))\n",
        "        leaf_count = 0\n",
        "        if not isinstance(G, nx.DiGraph) and parent is not None:\n",
        "            children.remove(parent)\n",
        "        if len(children)!=0:\n",
        "            rootdx = width/len(children)\n",
        "            nextx = xcenter - width/2 - rootdx/2\n",
        "            for child in children:\n",
        "                nextx += rootdx\n",
        "                rootpos, leafpos, newleaves = _hierarchy_pos(G,child, leftmost+leaf_count*leafdx,\n",
        "                                    width=rootdx, leafdx=leafdx,\n",
        "                                    vert_gap = vert_gap, vert_loc = vert_loc-vert_gap,\n",
        "                                    xcenter=nextx, rootpos=rootpos, leafpos=leafpos, parent = root)\n",
        "                leaf_count += newleaves\n",
        "\n",
        "            leftmostchild = min((x for x,y in [leafpos[child] for child in children]))\n",
        "            rightmostchild = max((x for x,y in [leafpos[child] for child in children]))\n",
        "            leafpos[root] = ((leftmostchild+rightmostchild)/2, vert_loc)\n",
        "        else:\n",
        "            leaf_count = 1\n",
        "            leafpos[root]  = (leftmost, vert_loc)\n",
        "#        pos[root] = (leftmost + (leaf_count-1)*dx/2., vert_loc)\n",
        "#        print(leaf_count)\n",
        "        return rootpos, leafpos, leaf_count\n",
        "\n",
        "    xcenter = width/2.\n",
        "    if isinstance(G, nx.DiGraph):\n",
        "        leafcount = len([node for node in nx.descendants(G, root) if G.out_degree(node)==0])\n",
        "    elif isinstance(G, nx.Graph):\n",
        "        leafcount = len([node for node in nx.node_connected_component(G, root) if G.degree(node)==1 and node != root])\n",
        "    rootpos, leafpos, leaf_count = _hierarchy_pos(G, root, 0, width,\n",
        "                                                    leafdx=width*1./leafcount,\n",
        "                                                    vert_gap=vert_gap,\n",
        "                                                    vert_loc = vert_loc,\n",
        "                                                    xcenter = xcenter)\n",
        "    pos = {}\n",
        "    for node in rootpos:\n",
        "        pos[node] = (leaf_vs_root_factor*leafpos[node][0] + (1-leaf_vs_root_factor)*rootpos[node][0], leafpos[node][1])\n",
        "#    pos = {node:(leaf_vs_root_factor*x1+(1-leaf_vs_root_factor)*x2, y1) for ((x1,y1), (x2,y2)) in (leafpos[node], rootpos[node]) for node in rootpos}\n",
        "    xmax = max(x for x,y in pos.values())\n",
        "    for node in pos:\n",
        "        pos[node]= (pos[node][0]*width/xmax, pos[node][1])\n",
        "    return pos"
      ]
    },
    {
      "cell_type": "code",
      "execution_count": null,
      "metadata": {
        "id": "XfcNlpM9ErlS"
      },
      "outputs": [],
      "source": [
        "demo_line = 'I shall find antiquity'\n",
        "\n",
        "def draw_figure (all, subset, complement):\n",
        "\n",
        "    positions = hierarchy_pos(all)\n",
        "\n",
        "    edge_style_common = {'node_size': 750, 'width': 4, 'arrowstyle': '->', 'arrowsize': 10}\n",
        "    nx.draw_networkx_edges(subset, positions, edge_color='tab:blue', alpha=0.8, **edge_style_common)\n",
        "    nx.draw_networkx_edges(complement, positions, alpha=0.2, **edge_style_common)\n",
        "\n",
        "    node_style = {'node_size': 750, 'node_shape': 'none'}\n",
        "    nx.draw_networkx_nodes(all, positions, **node_style)\n",
        "\n",
        "    node_labels = {node: f'{node}' for node in all.nodes()}\n",
        "    label_style = {'labels': node_labels, 'font_color': 'black', 'font_size': 10}\n",
        "    nx.draw_networkx_labels(all, positions, **label_style)\n",
        "\n",
        "    ax = plt.gca()\n",
        "    plt.tight_layout()\n",
        "    plt.axis(\"off\")\n",
        "    plt.show()\n",
        "\n",
        "\n",
        "def visualise_mechanism (line, table):\n",
        "\n",
        "    words = line.split()\n",
        "    nodes = [words[0], words[1]]\n",
        "    edges = [(words[0], words[1])]\n",
        "\n",
        "    for i in range(0, len(words)-2):\n",
        "        values = table[(words[i], words[i+1])]\n",
        "        nodes.extend(values)\n",
        "        edges.extend(((words[i+1], element) for element in values))\n",
        "\n",
        "    traversed_edges = [(words[i], words[i+1]) for i in range(len(words)-1)]\n",
        "\n",
        "    full = nx.DiGraph()\n",
        "    full.add_nodes_from(nodes)\n",
        "    full.add_edges_from(edges)\n",
        "    traversed = nx.DiGraph()\n",
        "    traversed.add_nodes_from(nodes)\n",
        "    traversed.add_edges_from(traversed_edges)\n",
        "    complement = nx.difference(full, traversed)\n",
        "\n",
        "    draw_figure(full, traversed, complement)"
      ]
    },
    {
      "cell_type": "code",
      "source": [
        "visualise_mechanism(demo_line, dictionnaire)"
      ],
      "metadata": {
        "colab": {
          "base_uri": "https://localhost:8080/",
          "height": 487
        },
        "id": "0-11BP-NB8EL",
        "outputId": "da7f3872-e478-402f-ad73-25466e709042"
      },
      "execution_count": null,
      "outputs": [
        {
          "output_type": "display_data",
          "data": {
            "text/plain": [
              "<Figure size 640x480 with 1 Axes>"
            ],
            "image/png": "[encoded data removed]"
          },
          "metadata": {}
        }
      ]
    },
    {
      "cell_type": "markdown",
      "source": [
        "#### **Final Remarks**\n",
        "\n",
        "Is this an AI model? In the broadest sense of those two words, perhaps. But to describe this model as such in a general context, surely, is to stretch the limits of credulity. There is clearly no reinforcement learning going on here.\n",
        "\n",
        "Could this model be useful for any real-world applications? Well, *how often do you think about the roman empire?*\n",
        "\n",
        "What would be the next improvements or enhancements you would make to this model? One of the simplest improvements which would have a drastic effect is to increase the length of the input text. This would allow for a more varied response, to the extent that fewer parts of the output would need to be reproduced verbatim from the input for lack of alternatives. Interestingly, we may also begin to see more statistical effects, wherein words which follow a given pair more frequently will also be picked more often as the prediction. Another improvement that can be considered is to increase number of previous words that affect the prediction. Though this must attempted cautiously, since it works against the previous improvement insomuch as it limits the number of possible predictions and decreases the variability of output.\n",
        "\n",
        "On a final note, the visualisation functions can be quite fragile. Please don't try to break them too hard :)"
      ],
      "metadata": {
        "id": "vLpTFdbFgwbo"
      }
    }
  ],
  "metadata": {
    "colab": {
      "provenance": [],
      "authorship_tag": "ABX9TyNZXCpnUEVHC/EVIK8ElTf6"
    },
    "kernelspec": {
      "display_name": "Python 3",
      "name": "python3"
    },
    "language_info": {
      "codemirror_mode": {
        "name": "ipython",
        "version": 2
      },
      "file_extension": ".py",
      "mimetype": "text/x-python",
      "name": "python",
      "nbconvert_exporter": "python",
      "pygments_lexer": "ipython2",
      "version": "2.7.6"
    }
  },
  "nbformat": 4,
  "nbformat_minor": 0
}
