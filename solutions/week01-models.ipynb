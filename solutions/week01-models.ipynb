{
  "nbformat": 4,
  "nbformat_minor": 0,
  "metadata": {
    "colab": {
      "name": "week1.ipynb",
      "provenance": [],
      "include_colab_link": true
    },
    "kernelspec": {
      "name": "python3",
      "language": "python",
      "display_name": "Python 3 (ipykernel)"
    },
    "language_info": {
      "name": "python"
    }
  },
  "cells": [
    {
      "cell_type": "markdown",
      "metadata": {
        "id": "view-in-github",
        "colab_type": "text"
      },
      "source": [
        "<a href=\"https://colab.research.google.com/github/powderflask/cap-comp215/blob/2024.01/solutions/week01-models.ipynb\" target=\"_parent\"><img src=\"https://colab.research.google.com/assets/colab-badge.svg\" alt=\"Open In Colab\"/></a>"
      ]
    },
    {
      "cell_type": "markdown",
      "source": [
        "# Welcome to Comp 215!\n",
        "Our week 1 lesson workbook, available on Github from the powderflask/cap-comp215 repository.\n",
        "\n",
        "As usual, the first code block just imports the modules we will use."
      ],
      "metadata": {
        "id": "WBMC0GrjNRTM"
      }
    },
    {
      "cell_type": "code",
      "execution_count": 1,
      "metadata": {
        "id": "C1a6aDXAM0WM",
        "ExecuteTime": {
          "end_time": "2023-12-30T22:13:40.129712Z",
          "start_time": "2023-12-30T22:13:40.123220Z"
        }
      },
      "outputs": [],
      "source": [
        "import matplotlib.pyplot as plt\n",
        "from pprint import pprint"
      ]
    },
    {
      "cell_type": "markdown",
      "source": [
        "## Using Code to gain insights\n",
        "\n",
        "How can a piece of code help us deepen our understanding of real-world phenomena?  Or explain complex concepts?\n",
        "\n",
        "### Example: Exponential Growth\n",
        "\n",
        "Although exponential growth occurs in many natural systems, many people find it unintuitive and have a hard time making predictions about it.\n",
        "\n",
        "#### Pop Quiz:\n",
        "duckweed plants double every day in open water. If a pond starts with 2 duckweed plants on day 1 and is completely covered after one month (30 days), on what day is the pond half covered?"
      ],
      "metadata": {
        "id": "k70NJ-JTNwYN"
      }
    },
    {
      "cell_type": "code",
      "source": [
        "r = 2\n",
        "duckweed = [2,] + [0]*29\n",
        "for day in range(1, 30):\n",
        "    duckweed[day] = duckweed[day-1] * r\n",
        "duckweed"
      ],
      "metadata": {
        "colab": {
          "base_uri": "https://localhost:8080/"
        },
        "id": "HZSz8IftqJ72",
        "outputId": "9f66f576-bfa6-430d-a2ca-32fe251c8602",
        "ExecuteTime": {
          "end_time": "2023-12-30T22:13:40.133647Z",
          "start_time": "2023-12-30T22:13:40.126167Z"
        }
      },
      "execution_count": 2,
      "outputs": [
        {
          "output_type": "execute_result",
          "data": {
            "text/plain": [
              "[2,\n",
              " 4,\n",
              " 8,\n",
              " 16,\n",
              " 32,\n",
              " 64,\n",
              " 128,\n",
              " 256,\n",
              " 512,\n",
              " 1024,\n",
              " 2048,\n",
              " 4096,\n",
              " 8192,\n",
              " 16384,\n",
              " 32768,\n",
              " 65536,\n",
              " 131072,\n",
              " 262144,\n",
              " 524288,\n",
              " 1048576,\n",
              " 2097152,\n",
              " 4194304,\n",
              " 8388608,\n",
              " 16777216,\n",
              " 33554432,\n",
              " 67108864,\n",
              " 134217728,\n",
              " 268435456,\n",
              " 536870912,\n",
              " 1073741824]"
            ]
          },
          "metadata": {},
          "execution_count": 2
        }
      ]
    },
    {
      "cell_type": "markdown",
      "source": [
        "## Plot the Growth\n",
        "we'll use matplotlib for data visualizations throughout the coure, not because it is awesome, but because it is the standard tool used by computational and data scientists."
      ],
      "metadata": {
        "id": "b6w3F2yErxuB"
      }
    },
    {
      "cell_type": "code",
      "source": [
        "pct_cover = [d/duckweed[-1] for d in duckweed]\n",
        "days = range(0, len(pct_cover))\n",
        "\n",
        "fig, ax = plt.subplots()\n",
        "ax.set(\n",
        "    title=f'Duck Weed Growth over {len(days)} days',\n",
        "    xlabel='Days',\n",
        "    ylabel='% pond covered',\n",
        ")\n",
        "ax.plot(days, pct_cover)\n",
        "plt.show()"
      ],
      "metadata": {
        "colab": {
          "base_uri": "https://localhost:8080/",
          "height": 472
        },
        "id": "i_5lOF51r63i",
        "outputId": "6a4f9b84-fbb2-43a0-aa4f-8fc964282c48",
        "ExecuteTime": {
          "end_time": "2023-12-30T22:39:25.831093Z",
          "start_time": "2023-12-30T22:39:25.730333Z"
        }
      },
      "execution_count": 4,
      "outputs": [
        {
          "output_type": "display_data",
          "data": {
            "text/plain": [
              "<Figure size 640x480 with 1 Axes>"
            ],
            "image/png": "[encoded data removed]"
          },
          "metadata": {}
        }
      ]
    },
    {
      "cell_type": "code",
      "execution_count": null,
      "outputs": [],
      "source": [],
      "metadata": {
        "id": "7Nv4S9s1apgj"
      }
    }
  ]
}